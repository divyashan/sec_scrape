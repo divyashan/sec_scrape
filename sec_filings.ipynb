{
 "cells": [
  {
   "cell_type": "code",
   "execution_count": 12,
   "metadata": {},
   "outputs": [
    {
     "name": "stdout",
     "output_type": "stream",
     "text": [
      "The autoreload extension is already loaded. To reload it, use:\n",
      "  %reload_ext autoreload\n"
     ]
    }
   ],
   "source": [
    "%load_ext autoreload\n",
    "%autoreload 2\n",
    "import pandas as pd\n",
    "import numpy as np\n",
    "import os\n",
    "import re\n",
    "\n",
    "from tqdm import tqdm\n",
    "from bs4 import BeautifulSoup\n",
    "from utils import *\n",
    "from row_utils import *\n",
    "\n",
    "# Set directory & name of save file\n",
    "results = []\n",
    "save_file_name = \"check1_df\"\n",
    "\n",
    "path_prefix = \"./2004/\"\n",
    "all_2004 = os.listdir(path_prefix)\n",
    "all_2004 = [x for x in all_2004 if ('DS_Store' not in x)]\n",
    "all_2004 = [x for x in all_2004 if ('xlsx' not in x)]\n",
    "\n",
    "# Recording which files have been scraped \n",
    "cik_done_dict = get_cik_done(save_file_name)\n",
    "#cik_done_dict = {}"
   ]
  },
  {
   "cell_type": "code",
   "execution_count": 13,
   "metadata": {},
   "outputs": [
    {
     "name": "stderr",
     "output_type": "stream",
     "text": [
      "  0%|          | 0/56 [00:00<?, ?it/s]/Users/divyas/Documents/G1/sec/utils.py:33: UserWarning: No parser was explicitly specified, so I'm using the best available HTML parser for this system (\"lxml\"). This usually isn't a problem, but if you run this code on another system, or in a different virtual environment, it may use a different parser and behave differently.\n",
      "\n",
      "The code that caused this warning is on line 33 of the file /Users/divyas/Documents/G1/sec/utils.py. To get rid of this warning, pass the additional argument 'features=\"lxml\"' to the BeautifulSoup constructor.\n",
      "\n",
      "  parsed_html = BeautifulSoup(wholetext)\n",
      "  2%|▏         | 1/56 [00:01<00:56,  1.03s/it]"
     ]
    },
    {
     "name": "stdout",
     "output_type": "stream",
     "text": [
      "File:  0 \tTable:  1 Row:  0\n"
     ]
    },
    {
     "name": "stderr",
     "output_type": "stream",
     "text": [
      "\r",
      "  4%|▎         | 2/56 [00:02<01:00,  1.12s/it]"
     ]
    },
    {
     "name": "stdout",
     "output_type": "stream",
     "text": [
      "File:  1 \tTable:  1 Row:  0\n"
     ]
    },
    {
     "name": "stderr",
     "output_type": "stream",
     "text": [
      "\r",
      "  5%|▌         | 3/56 [00:04<01:13,  1.39s/it]"
     ]
    },
    {
     "name": "stdout",
     "output_type": "stream",
     "text": [
      "File:  2 \tTable:  1 Row:  1\n"
     ]
    },
    {
     "name": "stderr",
     "output_type": "stream",
     "text": [
      "\r",
      "  7%|▋         | 4/56 [00:06<01:30,  1.74s/it]"
     ]
    },
    {
     "name": "stdout",
     "output_type": "stream",
     "text": [
      "File:  3 \tTable:  1 Row:  1\n"
     ]
    },
    {
     "name": "stderr",
     "output_type": "stream",
     "text": [
      "\r",
      "  9%|▉         | 5/56 [00:08<01:26,  1.71s/it]"
     ]
    },
    {
     "name": "stdout",
     "output_type": "stream",
     "text": [
      "File:  4 \tTable:  1 Row:  1\n"
     ]
    },
    {
     "name": "stderr",
     "output_type": "stream",
     "text": [
      "\r",
      " 11%|█         | 6/56 [00:10<01:22,  1.66s/it]"
     ]
    },
    {
     "name": "stdout",
     "output_type": "stream",
     "text": [
      "File:  5 \tTable:  1 Row:  1\n"
     ]
    },
    {
     "name": "stderr",
     "output_type": "stream",
     "text": [
      "\r",
      " 12%|█▎        | 7/56 [00:12<01:25,  1.75s/it]"
     ]
    },
    {
     "name": "stdout",
     "output_type": "stream",
     "text": [
      "File:  6 \tTable:  1 Row:  0\n"
     ]
    },
    {
     "name": "stderr",
     "output_type": "stream",
     "text": [
      "\r",
      " 14%|█▍        | 8/56 [00:15<01:42,  2.13s/it]"
     ]
    },
    {
     "name": "stdout",
     "output_type": "stream",
     "text": [
      "File:  7 \tTable:  1 Row:  1\n"
     ]
    },
    {
     "name": "stderr",
     "output_type": "stream",
     "text": [
      "\r",
      " 16%|█▌        | 9/56 [00:17<01:46,  2.27s/it]"
     ]
    },
    {
     "name": "stdout",
     "output_type": "stream",
     "text": [
      "File:  8 \tTable:  1 Row:  1\n"
     ]
    },
    {
     "name": "stderr",
     "output_type": "stream",
     "text": [
      "\r",
      " 18%|█▊        | 10/56 [00:20<01:54,  2.50s/it]"
     ]
    },
    {
     "name": "stdout",
     "output_type": "stream",
     "text": [
      "File:  9 \tTable:  1 Row:  1\n"
     ]
    },
    {
     "name": "stderr",
     "output_type": "stream",
     "text": [
      "\r",
      " 20%|█▉        | 11/56 [00:23<01:52,  2.49s/it]"
     ]
    },
    {
     "name": "stdout",
     "output_type": "stream",
     "text": [
      "File:  10 \tTable:  1 Row:  0\n"
     ]
    },
    {
     "name": "stderr",
     "output_type": "stream",
     "text": [
      "\r",
      " 21%|██▏       | 12/56 [00:26<01:58,  2.68s/it]"
     ]
    },
    {
     "name": "stdout",
     "output_type": "stream",
     "text": [
      "File:  11 \tTable:  1 Row:  1\n"
     ]
    },
    {
     "name": "stderr",
     "output_type": "stream",
     "text": [
      "\r",
      " 23%|██▎       | 13/56 [00:27<01:41,  2.36s/it]"
     ]
    },
    {
     "name": "stdout",
     "output_type": "stream",
     "text": [
      "File:  12 \tTable:  1 Row:  1\n"
     ]
    },
    {
     "name": "stderr",
     "output_type": "stream",
     "text": [
      "\r",
      " 25%|██▌       | 14/56 [00:31<01:55,  2.75s/it]"
     ]
    },
    {
     "name": "stdout",
     "output_type": "stream",
     "text": [
      "File:  13 \tTable:  1 Row:  1\n"
     ]
    },
    {
     "name": "stderr",
     "output_type": "stream",
     "text": [
      "\r",
      " 27%|██▋       | 15/56 [00:33<01:40,  2.44s/it]"
     ]
    },
    {
     "name": "stdout",
     "output_type": "stream",
     "text": [
      "File:  14 \tTable:  1 Row:  1\n"
     ]
    },
    {
     "name": "stderr",
     "output_type": "stream",
     "text": [
      "\r",
      " 29%|██▊       | 16/56 [00:35<01:30,  2.26s/it]"
     ]
    },
    {
     "name": "stdout",
     "output_type": "stream",
     "text": [
      "File:  15 \tTable:  1 Row:  1\n"
     ]
    },
    {
     "name": "stderr",
     "output_type": "stream",
     "text": [
      "\r",
      " 30%|███       | 17/56 [00:38<01:44,  2.68s/it]"
     ]
    },
    {
     "name": "stdout",
     "output_type": "stream",
     "text": [
      "File:  16 \tTable:  1 Row:  1\n"
     ]
    },
    {
     "name": "stderr",
     "output_type": "stream",
     "text": [
      "\r",
      " 32%|███▏      | 18/56 [00:41<01:41,  2.68s/it]"
     ]
    },
    {
     "name": "stdout",
     "output_type": "stream",
     "text": [
      "File:  17 \tTable:  1 Row:  1\n"
     ]
    },
    {
     "name": "stderr",
     "output_type": "stream",
     "text": [
      "\r",
      " 34%|███▍      | 19/56 [00:44<01:39,  2.68s/it]"
     ]
    },
    {
     "name": "stdout",
     "output_type": "stream",
     "text": [
      "File:  18 \tTable:  1 Row:  1\n"
     ]
    },
    {
     "name": "stderr",
     "output_type": "stream",
     "text": [
      "\r",
      " 36%|███▌      | 20/56 [00:47<01:40,  2.80s/it]"
     ]
    },
    {
     "name": "stdout",
     "output_type": "stream",
     "text": [
      "File:  19 \tTable:  1 Row:  0\n"
     ]
    },
    {
     "name": "stderr",
     "output_type": "stream",
     "text": [
      "\r",
      " 38%|███▊      | 21/56 [00:48<01:22,  2.37s/it]"
     ]
    },
    {
     "name": "stdout",
     "output_type": "stream",
     "text": [
      "File:  20 \tTable:  1 Row:  1\n"
     ]
    },
    {
     "name": "stderr",
     "output_type": "stream",
     "text": [
      "\r",
      " 39%|███▉      | 22/56 [00:51<01:23,  2.46s/it]"
     ]
    },
    {
     "name": "stdout",
     "output_type": "stream",
     "text": [
      "File:  21 \tTable:  1 Row:  1\n"
     ]
    },
    {
     "name": "stderr",
     "output_type": "stream",
     "text": [
      "\r",
      " 41%|████      | 23/56 [00:52<01:04,  1.95s/it]"
     ]
    },
    {
     "name": "stdout",
     "output_type": "stream",
     "text": [
      "File:  22 \tTable:  1 Row:  0\n"
     ]
    },
    {
     "name": "stderr",
     "output_type": "stream",
     "text": [
      "\r",
      " 43%|████▎     | 24/56 [00:54<01:08,  2.13s/it]"
     ]
    },
    {
     "name": "stdout",
     "output_type": "stream",
     "text": [
      "File:  23 \tTable:  1 Row:  1\n"
     ]
    },
    {
     "name": "stderr",
     "output_type": "stream",
     "text": [
      "\r",
      " 45%|████▍     | 25/56 [00:57<01:14,  2.39s/it]"
     ]
    },
    {
     "name": "stdout",
     "output_type": "stream",
     "text": [
      "File:  24 \tTable:  1 Row:  1\n"
     ]
    },
    {
     "name": "stderr",
     "output_type": "stream",
     "text": [
      "\r",
      " 46%|████▋     | 26/56 [00:59<01:05,  2.19s/it]"
     ]
    },
    {
     "name": "stdout",
     "output_type": "stream",
     "text": [
      "File:  25 \tTable:  1 Row:  1\n"
     ]
    },
    {
     "name": "stderr",
     "output_type": "stream",
     "text": [
      "\r",
      " 48%|████▊     | 27/56 [01:01<01:01,  2.10s/it]"
     ]
    },
    {
     "name": "stdout",
     "output_type": "stream",
     "text": [
      "File:  26 \tTable:  1 Row:  1\n"
     ]
    },
    {
     "name": "stderr",
     "output_type": "stream",
     "text": [
      "\r",
      " 50%|█████     | 28/56 [01:03<01:03,  2.27s/it]"
     ]
    },
    {
     "name": "stdout",
     "output_type": "stream",
     "text": [
      "File:  27 \tTable:  1 Row:  1\n"
     ]
    },
    {
     "name": "stderr",
     "output_type": "stream",
     "text": [
      "\r",
      " 52%|█████▏    | 29/56 [01:06<01:04,  2.38s/it]"
     ]
    },
    {
     "name": "stdout",
     "output_type": "stream",
     "text": [
      "File:  28 \tTable:  1 Row:  1\n"
     ]
    },
    {
     "name": "stderr",
     "output_type": "stream",
     "text": [
      "\r",
      " 54%|█████▎    | 30/56 [01:09<01:06,  2.57s/it]"
     ]
    },
    {
     "name": "stdout",
     "output_type": "stream",
     "text": [
      "File:  29 \tTable:  1 Row:  1\n"
     ]
    },
    {
     "name": "stderr",
     "output_type": "stream",
     "text": [
      "\r",
      " 55%|█████▌    | 31/56 [01:11<00:59,  2.39s/it]"
     ]
    },
    {
     "name": "stdout",
     "output_type": "stream",
     "text": [
      "File:  30 \tTable:  1 Row:  0\n"
     ]
    },
    {
     "name": "stderr",
     "output_type": "stream",
     "text": [
      "\r",
      " 57%|█████▋    | 32/56 [01:14<01:00,  2.53s/it]"
     ]
    },
    {
     "name": "stdout",
     "output_type": "stream",
     "text": [
      "File:  31 \tTable:  1 Row:  1\n"
     ]
    },
    {
     "name": "stderr",
     "output_type": "stream",
     "text": [
      "\r",
      " 59%|█████▉    | 33/56 [01:15<00:51,  2.25s/it]"
     ]
    },
    {
     "name": "stdout",
     "output_type": "stream",
     "text": [
      "File:  32 \tTable:  1 Row:  1\n"
     ]
    },
    {
     "name": "stderr",
     "output_type": "stream",
     "text": [
      "\r",
      " 61%|██████    | 34/56 [01:17<00:46,  2.13s/it]"
     ]
    },
    {
     "name": "stdout",
     "output_type": "stream",
     "text": [
      "File:  33 \tTable:  1 Row:  1\n"
     ]
    },
    {
     "name": "stderr",
     "output_type": "stream",
     "text": [
      "\r",
      " 62%|██████▎   | 35/56 [01:20<00:47,  2.27s/it]"
     ]
    },
    {
     "name": "stdout",
     "output_type": "stream",
     "text": [
      "File:  34 \tTable:  1 Row:  1\n"
     ]
    },
    {
     "name": "stderr",
     "output_type": "stream",
     "text": [
      "\r",
      " 64%|██████▍   | 36/56 [01:22<00:44,  2.23s/it]"
     ]
    },
    {
     "name": "stdout",
     "output_type": "stream",
     "text": [
      "File:  35 \tTable:  1 Row:  1\n"
     ]
    },
    {
     "name": "stderr",
     "output_type": "stream",
     "text": [
      "\r",
      " 66%|██████▌   | 37/56 [01:24<00:38,  2.02s/it]"
     ]
    },
    {
     "name": "stdout",
     "output_type": "stream",
     "text": [
      "File:  36 \tTable:  1 Row:  0\n"
     ]
    },
    {
     "name": "stderr",
     "output_type": "stream",
     "text": [
      "\r",
      " 68%|██████▊   | 38/56 [01:25<00:33,  1.87s/it]"
     ]
    },
    {
     "name": "stdout",
     "output_type": "stream",
     "text": [
      "File:  37 \tTable:  1 Row:  1\n"
     ]
    },
    {
     "name": "stderr",
     "output_type": "stream",
     "text": [
      "\r",
      " 70%|██████▉   | 39/56 [01:27<00:33,  1.99s/it]"
     ]
    },
    {
     "name": "stdout",
     "output_type": "stream",
     "text": [
      "File:  38 \tTable:  1 Row:  0\n"
     ]
    },
    {
     "name": "stderr",
     "output_type": "stream",
     "text": [
      "\r",
      " 71%|███████▏  | 40/56 [01:30<00:35,  2.21s/it]"
     ]
    },
    {
     "name": "stdout",
     "output_type": "stream",
     "text": [
      "File:  39 \tTable:  1 Row:  0\n"
     ]
    },
    {
     "name": "stderr",
     "output_type": "stream",
     "text": [
      "\r",
      " 73%|███████▎  | 41/56 [01:32<00:32,  2.17s/it]"
     ]
    },
    {
     "name": "stdout",
     "output_type": "stream",
     "text": [
      "File:  40 \tTable:  1 Row:  1\n"
     ]
    },
    {
     "name": "stderr",
     "output_type": "stream",
     "text": [
      "\r",
      " 75%|███████▌  | 42/56 [01:35<00:32,  2.32s/it]"
     ]
    },
    {
     "name": "stdout",
     "output_type": "stream",
     "text": [
      "File:  41 \tTable:  1 Row:  1\n"
     ]
    },
    {
     "name": "stderr",
     "output_type": "stream",
     "text": [
      "\r",
      " 77%|███████▋  | 43/56 [01:37<00:27,  2.14s/it]"
     ]
    },
    {
     "name": "stdout",
     "output_type": "stream",
     "text": [
      "File:  42 \tTable:  1 Row:  0\n"
     ]
    },
    {
     "name": "stderr",
     "output_type": "stream",
     "text": [
      "\r",
      " 79%|███████▊  | 44/56 [01:38<00:24,  2.03s/it]"
     ]
    },
    {
     "name": "stdout",
     "output_type": "stream",
     "text": [
      "File:  43 \tTable:  1 Row:  1\n"
     ]
    },
    {
     "name": "stderr",
     "output_type": "stream",
     "text": [
      "\r",
      " 80%|████████  | 45/56 [01:40<00:20,  1.90s/it]"
     ]
    },
    {
     "name": "stdout",
     "output_type": "stream",
     "text": [
      "File:  44 \tTable:  1 Row:  1\n"
     ]
    },
    {
     "name": "stderr",
     "output_type": "stream",
     "text": [
      "\r",
      " 82%|████████▏ | 46/56 [01:41<00:18,  1.80s/it]"
     ]
    },
    {
     "name": "stdout",
     "output_type": "stream",
     "text": [
      "File:  45 \tTable:  1 Row:  0\n"
     ]
    },
    {
     "name": "stderr",
     "output_type": "stream",
     "text": [
      "\r",
      " 84%|████████▍ | 47/56 [01:43<00:15,  1.78s/it]"
     ]
    },
    {
     "name": "stdout",
     "output_type": "stream",
     "text": [
      "File:  46 \tTable:  1 Row:  1\n"
     ]
    },
    {
     "name": "stderr",
     "output_type": "stream",
     "text": [
      "\r",
      " 86%|████████▌ | 48/56 [01:45<00:13,  1.74s/it]"
     ]
    },
    {
     "name": "stdout",
     "output_type": "stream",
     "text": [
      "File:  47 \tTable:  1 Row:  1\n"
     ]
    },
    {
     "name": "stderr",
     "output_type": "stream",
     "text": [
      "\r",
      " 88%|████████▊ | 49/56 [01:52<00:24,  3.49s/it]"
     ]
    },
    {
     "name": "stdout",
     "output_type": "stream",
     "text": [
      "File:  48 \tTable:  1 Row:  1\n"
     ]
    },
    {
     "name": "stderr",
     "output_type": "stream",
     "text": [
      "\r",
      " 89%|████████▉ | 50/56 [01:57<00:22,  3.73s/it]"
     ]
    },
    {
     "name": "stdout",
     "output_type": "stream",
     "text": [
      "File:  49 \tTable:  1 Row:  1\n"
     ]
    },
    {
     "name": "stderr",
     "output_type": "stream",
     "text": [
      "\r",
      " 91%|█████████ | 51/56 [01:57<00:13,  2.75s/it]"
     ]
    },
    {
     "name": "stdout",
     "output_type": "stream",
     "text": [
      "File:  50 \tTable:  1 Row:  1\n"
     ]
    },
    {
     "name": "stderr",
     "output_type": "stream",
     "text": [
      "\r",
      " 93%|█████████▎| 52/56 [02:00<00:11,  2.77s/it]"
     ]
    },
    {
     "name": "stdout",
     "output_type": "stream",
     "text": [
      "File:  51 \tTable:  1 Row:  1\n"
     ]
    },
    {
     "name": "stderr",
     "output_type": "stream",
     "text": [
      "\r",
      " 95%|█████████▍| 53/56 [02:02<00:07,  2.54s/it]"
     ]
    },
    {
     "name": "stdout",
     "output_type": "stream",
     "text": [
      "File:  52 \tTable:  1 Row:  0\n"
     ]
    },
    {
     "name": "stderr",
     "output_type": "stream",
     "text": [
      "\r",
      " 96%|█████████▋| 54/56 [02:04<00:04,  2.29s/it]"
     ]
    },
    {
     "name": "stdout",
     "output_type": "stream",
     "text": [
      "File:  53 \tTable:  1 Row:  1\n"
     ]
    },
    {
     "name": "stderr",
     "output_type": "stream",
     "text": [
      "\r",
      " 98%|█████████▊| 55/56 [02:06<00:02,  2.20s/it]"
     ]
    },
    {
     "name": "stdout",
     "output_type": "stream",
     "text": [
      "File:  54 \tTable:  1 Row:  1\n"
     ]
    },
    {
     "name": "stderr",
     "output_type": "stream",
     "text": [
      "\r",
      "100%|██████████| 56/56 [02:08<00:00,  2.12s/it]"
     ]
    },
    {
     "name": "stdout",
     "output_type": "stream",
     "text": [
      "File:  55 \tTable:  1 Row:  1\n"
     ]
    },
    {
     "name": "stderr",
     "output_type": "stream",
     "text": [
      "\n"
     ]
    }
   ],
   "source": [
    "# Scraping the remaining files\n",
    "results = []\n",
    "for i in tqdm(range(len(all_2004))):\n",
    "    \n",
    "    fname = all_2004[i]\n",
    "    test_f = open(path_prefix + fname)\n",
    "    wholetext = test_f.read()\n",
    "    cikbase = re.search(r\"CENTRAL INDEX KEY:\\s*?\\d{10}\\b\", wholetext, re.I).group()\n",
    "    cik_re = re.split(r'\\s', cikbase)[-1]        \n",
    "\n",
    "    datadatebase = re.search(r\"CONFORMED PERIOD OF REPORT:\\s*?\\d{8}\\b\", wholetext, re.I).group() \n",
    "    datadate_re = re.split(r'\\s', datadatebase)[-1] \n",
    "    if int(cik_re) in cik_done_dict:\n",
    "        if int(datadate_re) in cik_done_dict[int(cik_re)]:\n",
    "            print(\"Already processed this file\")\n",
    "            continue\n",
    "    \n",
    "    wholetext = wholetext.lower()\n",
    "    tbl_flag = 0 # 1 if \"contractual obligations\" table exists\n",
    "    row_flag = 0 # 1 if \"purchasing obligations\" row exists\n",
    "    multiplier = 1 # 1 by default\n",
    "    \n",
    "    table = scrape_table(wholetext)\n",
    "    rows = []\n",
    "    if (not table) or ('-----' in table.text):\n",
    "        multiplier, lines, tbl_list = scrape_text_table(wholetext)\n",
    "        if tbl_list != None:\n",
    "            tbl_flag = 1\n",
    "            rows = scrape_text_rows(lines, tbl_list)\n",
    "    else:\n",
    "        tbl_flag = 1\n",
    "        rows = scrape_rows(table)\n",
    "        multiplier = get_multiplier_from_tbl(table)\n",
    "        \n",
    "    for row in rows:\n",
    "        row_flag = 1\n",
    "        result = {'fname': fname, 'cik': cik_re, 'datadate': datadate_re, 'tbl': tbl_flag, 'row': row_flag, \n",
    "                   '<1': row['<1'], '1-3':row['1-3'], '3-5':row['3-5'], '>5':row['>5'], \n",
    "                  'category': row['category'], 'multiplier': multiplier}\n",
    "        if 'total' in row.keys():\n",
    "                result['total'] = row['total']\n",
    "        results.append(result)\n",
    "\n",
    "    # No table or no row\n",
    "    if (tbl_flag == 0) or (row_flag == 0):\n",
    "        result = {'fname': fname, 'cik': cik_re, 'datadate': datadate_re, 'tbl': tbl_flag, 'row': row_flag, \n",
    "                  'total': '-', '<1': '-', '1-3':'-', '3-5':'-', '>5':'-', 'multiplier': multiplier}\n",
    "\n",
    "        results.append(result)\n",
    "    pd.DataFrame(results).to_csv(save_file_name)\n",
    "    print(\"File: \", i, \"\\tTable: \", tbl_flag, \"Row: \", row_flag)\n"
   ]
  },
  {
   "cell_type": "code",
   "execution_count": 9,
   "metadata": {},
   "outputs": [
    {
     "name": "stdout",
     "output_type": "stream",
     "text": [
      "row & table found:  7\n",
      "table found:  0\n",
      "nothing found:  0\n"
     ]
    }
   ],
   "source": [
    "#results_df = pd.DataFrame(results)\n",
    "results_df = pd.read_csv(save_file_name)\n",
    "row_check = results_df[(results_df['row'] == 0) & (results_df['tbl'] == 1)] # table but no row\n",
    "none_check = results_df[(results_df['row'] == 0) & (results_df['tbl'] == 0)] # no table no row\n",
    "last_check = results_df[(results_df['row'] == 1) & (results_df['tbl'] == 1)] # table and row, other issue?\n",
    "print(\"row & table found: \", len(set(last_check['fname'])))\n",
    "print(\"table found: \", len(set(row_check['fname'])))\n",
    "print(\"nothing found: \", len(set(none_check['fname'])))"
   ]
  },
  {
   "cell_type": "code",
   "execution_count": 10,
   "metadata": {
    "collapsed": true
   },
   "outputs": [
    {
     "data": {
      "text/html": [
       "<div>\n",
       "<style scoped>\n",
       "    .dataframe tbody tr th:only-of-type {\n",
       "        vertical-align: middle;\n",
       "    }\n",
       "\n",
       "    .dataframe tbody tr th {\n",
       "        vertical-align: top;\n",
       "    }\n",
       "\n",
       "    .dataframe thead th {\n",
       "        text-align: right;\n",
       "    }\n",
       "</style>\n",
       "<table border=\"1\" class=\"dataframe\">\n",
       "  <thead>\n",
       "    <tr style=\"text-align: right;\">\n",
       "      <th></th>\n",
       "      <th>1-3</th>\n",
       "      <th>3-5</th>\n",
       "      <th>&lt;1</th>\n",
       "      <th>&gt;5</th>\n",
       "      <th>category</th>\n",
       "      <th>cik</th>\n",
       "      <th>datadate</th>\n",
       "      <th>fname</th>\n",
       "      <th>multiplier</th>\n",
       "      <th>row</th>\n",
       "      <th>tbl</th>\n",
       "      <th>total</th>\n",
       "    </tr>\n",
       "  </thead>\n",
       "  <tbody>\n",
       "    <tr>\n",
       "      <th>0</th>\n",
       "      <td>2708.3</td>\n",
       "      <td>1018.7</td>\n",
       "      <td>1719.7</td>\n",
       "      <td>28.0</td>\n",
       "      <td>purchase obligations(a)</td>\n",
       "      <td>0000009389</td>\n",
       "      <td>20031231</td>\n",
       "      <td>0000009389-04-000059.txt</td>\n",
       "      <td>1000000</td>\n",
       "      <td>1</td>\n",
       "      <td>1</td>\n",
       "      <td>5474.7</td>\n",
       "    </tr>\n",
       "    <tr>\n",
       "      <th>1</th>\n",
       "      <td>3204.9</td>\n",
       "      <td>1128.3</td>\n",
       "      <td>1832.1</td>\n",
       "      <td>1113.1</td>\n",
       "      <td>total payments on contractual obligations</td>\n",
       "      <td>0000009389</td>\n",
       "      <td>20031231</td>\n",
       "      <td>0000009389-04-000059.txt</td>\n",
       "      <td>1000000</td>\n",
       "      <td>1</td>\n",
       "      <td>1</td>\n",
       "      <td>7278.4</td>\n",
       "    </tr>\n",
       "    <tr>\n",
       "      <th>2</th>\n",
       "      <td>1</td>\n",
       "      <td>0</td>\n",
       "      <td>98</td>\n",
       "      <td>0</td>\n",
       "      <td>and construction of buildings</td>\n",
       "      <td>0000003333</td>\n",
       "      <td>20040129</td>\n",
       "      <td>0000003333-04-000014.txt</td>\n",
       "      <td>1</td>\n",
       "      <td>1</td>\n",
       "      <td>1</td>\n",
       "      <td>99.0</td>\n",
       "    </tr>\n",
       "    <tr>\n",
       "      <th>3</th>\n",
       "      <td>0</td>\n",
       "      <td>0</td>\n",
       "      <td>80</td>\n",
       "      <td>0</td>\n",
       "      <td>transportation contracts</td>\n",
       "      <td>0000003333</td>\n",
       "      <td>20040129</td>\n",
       "      <td>0000003333-04-000014.txt</td>\n",
       "      <td>1</td>\n",
       "      <td>1</td>\n",
       "      <td>1</td>\n",
       "      <td>80.0</td>\n",
       "    </tr>\n",
       "    <tr>\n",
       "      <th>4</th>\n",
       "      <td>1346</td>\n",
       "      <td>831</td>\n",
       "      <td>1480</td>\n",
       "      <td>7532</td>\n",
       "      <td>total contractual cash obligations</td>\n",
       "      <td>0000003333</td>\n",
       "      <td>20040129</td>\n",
       "      <td>0000003333-04-000014.txt</td>\n",
       "      <td>1</td>\n",
       "      <td>1</td>\n",
       "      <td>1</td>\n",
       "      <td>11189.0</td>\n",
       "    </tr>\n",
       "    <tr>\n",
       "      <th>5</th>\n",
       "      <td>77</td>\n",
       "      <td>49</td>\n",
       "      <td>63</td>\n",
       "      <td>31</td>\n",
       "      <td>capital lease obligations</td>\n",
       "      <td>0000022198</td>\n",
       "      <td>20031231</td>\n",
       "      <td>0000004904-04-000060.txt</td>\n",
       "      <td>1000000</td>\n",
       "      <td>1</td>\n",
       "      <td>1</td>\n",
       "      <td>220.0</td>\n",
       "    </tr>\n",
       "    <tr>\n",
       "      <th>6</th>\n",
       "      <td>2132</td>\n",
       "      <td>1101</td>\n",
       "      <td>1720</td>\n",
       "      <td>1785</td>\n",
       "      <td>obligations (a)</td>\n",
       "      <td>0000022198</td>\n",
       "      <td>20031231</td>\n",
       "      <td>0000004904-04-000060.txt</td>\n",
       "      <td>1000000</td>\n",
       "      <td>1</td>\n",
       "      <td>1</td>\n",
       "      <td>6738.0</td>\n",
       "    </tr>\n",
       "    <tr>\n",
       "      <th>7</th>\n",
       "      <td>492</td>\n",
       "      <td>441</td>\n",
       "      <td>291</td>\n",
       "      <td>2331</td>\n",
       "      <td>noncancellable operating leases</td>\n",
       "      <td>0000022198</td>\n",
       "      <td>20031231</td>\n",
       "      <td>0000004904-04-000060.txt</td>\n",
       "      <td>1000000</td>\n",
       "      <td>1</td>\n",
       "      <td>1</td>\n",
       "      <td>3555.0</td>\n",
       "    </tr>\n",
       "    <tr>\n",
       "      <th>8</th>\n",
       "      <td>2512</td>\n",
       "      <td>0</td>\n",
       "      <td>2512</td>\n",
       "      <td>7200</td>\n",
       "      <td>other long0term obligations (b)</td>\n",
       "      <td>0000800459</td>\n",
       "      <td>20040630</td>\n",
       "      <td>0000800459-04-000047.txt</td>\n",
       "      <td>1000</td>\n",
       "      <td>1</td>\n",
       "      <td>1</td>\n",
       "      <td>12224.0</td>\n",
       "    </tr>\n",
       "    <tr>\n",
       "      <th>9</th>\n",
       "      <td>0</td>\n",
       "      <td>0</td>\n",
       "      <td>20674</td>\n",
       "      <td>000</td>\n",
       "      <td>firm commitments for capital expenditures</td>\n",
       "      <td>0000800459</td>\n",
       "      <td>20040630</td>\n",
       "      <td>0000800459-04-000047.txt</td>\n",
       "      <td>1000</td>\n",
       "      <td>1</td>\n",
       "      <td>1</td>\n",
       "      <td>20674.0</td>\n",
       "    </tr>\n",
       "    <tr>\n",
       "      <th>10</th>\n",
       "      <td>0</td>\n",
       "      <td>0</td>\n",
       "      <td>58762</td>\n",
       "      <td>000</td>\n",
       "      <td>purchase obligations (c)</td>\n",
       "      <td>0000800459</td>\n",
       "      <td>20040630</td>\n",
       "      <td>0000800459-04-000047.txt</td>\n",
       "      <td>1000</td>\n",
       "      <td>1</td>\n",
       "      <td>1</td>\n",
       "      <td>58762.0</td>\n",
       "    </tr>\n",
       "    <tr>\n",
       "      <th>11</th>\n",
       "      <td>295336</td>\n",
       "      <td>191729</td>\n",
       "      <td>133255</td>\n",
       "      <td>40493</td>\n",
       "      <td>total contractual cash obligations</td>\n",
       "      <td>0000800459</td>\n",
       "      <td>20040630</td>\n",
       "      <td>0000800459-04-000047.txt</td>\n",
       "      <td>1000</td>\n",
       "      <td>1</td>\n",
       "      <td>1</td>\n",
       "      <td>660813.0</td>\n",
       "    </tr>\n",
       "    <tr>\n",
       "      <th>12</th>\n",
       "      <td>135000</td>\n",
       "      <td>0</td>\n",
       "      <td>476000</td>\n",
       "      <td>0</td>\n",
       "      <td>purchase obligations</td>\n",
       "      <td>0000855612</td>\n",
       "      <td>20031231</td>\n",
       "      <td>0000950134-04-003510.txt</td>\n",
       "      <td>1</td>\n",
       "      <td>1</td>\n",
       "      <td>1</td>\n",
       "      <td>NaN</td>\n",
       "    </tr>\n",
       "    <tr>\n",
       "      <th>13</th>\n",
       "      <td>2.057e+06</td>\n",
       "      <td>844000</td>\n",
       "      <td>1619000</td>\n",
       "      <td>844000</td>\n",
       "      <td>total contractual obligations</td>\n",
       "      <td>0000855612</td>\n",
       "      <td>20031231</td>\n",
       "      <td>0000950134-04-003510.txt</td>\n",
       "      <td>1</td>\n",
       "      <td>1</td>\n",
       "      <td>1</td>\n",
       "      <td>NaN</td>\n",
       "    </tr>\n",
       "    <tr>\n",
       "      <th>14</th>\n",
       "      <td>0</td>\n",
       "      <td>0</td>\n",
       "      <td>4.7</td>\n",
       "      <td>0</td>\n",
       "      <td>purchase commitments</td>\n",
       "      <td>0000093456</td>\n",
       "      <td>20031228</td>\n",
       "      <td>0000906318-04-000093.txt</td>\n",
       "      <td>1000000</td>\n",
       "      <td>1</td>\n",
       "      <td>1</td>\n",
       "      <td>4.7</td>\n",
       "    </tr>\n",
       "    <tr>\n",
       "      <th>15</th>\n",
       "      <td>77</td>\n",
       "      <td>49</td>\n",
       "      <td>63</td>\n",
       "      <td>31</td>\n",
       "      <td>capital lease obligations</td>\n",
       "      <td>0000004904</td>\n",
       "      <td>20031231</td>\n",
       "      <td>0000004904-04-000055.txt</td>\n",
       "      <td>1000000</td>\n",
       "      <td>1</td>\n",
       "      <td>1</td>\n",
       "      <td>220.0</td>\n",
       "    </tr>\n",
       "    <tr>\n",
       "      <th>16</th>\n",
       "      <td>2132</td>\n",
       "      <td>1101</td>\n",
       "      <td>1720</td>\n",
       "      <td>1785</td>\n",
       "      <td>obligations (a)</td>\n",
       "      <td>0000004904</td>\n",
       "      <td>20031231</td>\n",
       "      <td>0000004904-04-000055.txt</td>\n",
       "      <td>1000000</td>\n",
       "      <td>1</td>\n",
       "      <td>1</td>\n",
       "      <td>6738.0</td>\n",
       "    </tr>\n",
       "    <tr>\n",
       "      <th>17</th>\n",
       "      <td>492</td>\n",
       "      <td>441</td>\n",
       "      <td>291</td>\n",
       "      <td>2331</td>\n",
       "      <td>noncancellable operating leases</td>\n",
       "      <td>0000004904</td>\n",
       "      <td>20031231</td>\n",
       "      <td>0000004904-04-000055.txt</td>\n",
       "      <td>1000000</td>\n",
       "      <td>1</td>\n",
       "      <td>1</td>\n",
       "      <td>3555.0</td>\n",
       "    </tr>\n",
       "  </tbody>\n",
       "</table>\n",
       "</div>"
      ],
      "text/plain": [
       "          1-3     3-5       <1      >5  \\\n",
       "0      2708.3  1018.7   1719.7    28.0   \n",
       "1      3204.9  1128.3   1832.1  1113.1   \n",
       "2           1       0       98       0   \n",
       "3           0       0       80       0   \n",
       "4        1346     831     1480    7532   \n",
       "5          77      49       63      31   \n",
       "6        2132    1101     1720    1785   \n",
       "7         492     441      291    2331   \n",
       "8        2512       0     2512    7200   \n",
       "9           0       0    20674     000   \n",
       "10          0       0    58762     000   \n",
       "11     295336  191729   133255   40493   \n",
       "12     135000       0   476000       0   \n",
       "13  2.057e+06  844000  1619000  844000   \n",
       "14          0       0      4.7       0   \n",
       "15         77      49       63      31   \n",
       "16       2132    1101     1720    1785   \n",
       "17        492     441      291    2331   \n",
       "\n",
       "                                     category         cik  datadate  \\\n",
       "0                     purchase obligations(a)  0000009389  20031231   \n",
       "1   total payments on contractual obligations  0000009389  20031231   \n",
       "2               and construction of buildings  0000003333  20040129   \n",
       "3                    transportation contracts  0000003333  20040129   \n",
       "4          total contractual cash obligations  0000003333  20040129   \n",
       "5                   capital lease obligations  0000022198  20031231   \n",
       "6                             obligations (a)  0000022198  20031231   \n",
       "7             noncancellable operating leases  0000022198  20031231   \n",
       "8             other long0term obligations (b)  0000800459  20040630   \n",
       "9   firm commitments for capital expenditures  0000800459  20040630   \n",
       "10                   purchase obligations (c)  0000800459  20040630   \n",
       "11         total contractual cash obligations  0000800459  20040630   \n",
       "12                       purchase obligations  0000855612  20031231   \n",
       "13              total contractual obligations  0000855612  20031231   \n",
       "14                       purchase commitments  0000093456  20031228   \n",
       "15                  capital lease obligations  0000004904  20031231   \n",
       "16                            obligations (a)  0000004904  20031231   \n",
       "17            noncancellable operating leases  0000004904  20031231   \n",
       "\n",
       "                       fname  multiplier  row  tbl     total  \n",
       "0   0000009389-04-000059.txt     1000000    1    1    5474.7  \n",
       "1   0000009389-04-000059.txt     1000000    1    1    7278.4  \n",
       "2   0000003333-04-000014.txt           1    1    1      99.0  \n",
       "3   0000003333-04-000014.txt           1    1    1      80.0  \n",
       "4   0000003333-04-000014.txt           1    1    1   11189.0  \n",
       "5   0000004904-04-000060.txt     1000000    1    1     220.0  \n",
       "6   0000004904-04-000060.txt     1000000    1    1    6738.0  \n",
       "7   0000004904-04-000060.txt     1000000    1    1    3555.0  \n",
       "8   0000800459-04-000047.txt        1000    1    1   12224.0  \n",
       "9   0000800459-04-000047.txt        1000    1    1   20674.0  \n",
       "10  0000800459-04-000047.txt        1000    1    1   58762.0  \n",
       "11  0000800459-04-000047.txt        1000    1    1  660813.0  \n",
       "12  0000950134-04-003510.txt           1    1    1       NaN  \n",
       "13  0000950134-04-003510.txt           1    1    1       NaN  \n",
       "14  0000906318-04-000093.txt     1000000    1    1       4.7  \n",
       "15  0000004904-04-000055.txt     1000000    1    1     220.0  \n",
       "16  0000004904-04-000055.txt     1000000    1    1    6738.0  \n",
       "17  0000004904-04-000055.txt     1000000    1    1    3555.0  "
      ]
     },
     "execution_count": 10,
     "metadata": {},
     "output_type": "execute_result"
    }
   ],
   "source": [
    "last_check"
   ]
  },
  {
   "cell_type": "markdown",
   "metadata": {},
   "source": [
    "# Examining one file"
   ]
  },
  {
   "cell_type": "code",
   "execution_count": 9,
   "metadata": {},
   "outputs": [
    {
     "name": "stdout",
     "output_type": "stream",
     "text": [
      "CIK:  0000733269 Date:  20040331\n"
     ]
    },
    {
     "data": {
      "text/plain": [
       "[{'1-3': 24309.0,\n",
       "  '3-5': 4730.0,\n",
       "  '<1': 38588.0,\n",
       "  '>5': '11821',\n",
       "  'category': 'capital lease obligations',\n",
       "  'total': 79448.0},\n",
       " {'1-3': 75606.0,\n",
       "  '3-5': 205824.0,\n",
       "  '<1': 73246.0,\n",
       "  '>5': '12026',\n",
       "  'category': 'obligations',\n",
       "  'total': 366702.0},\n",
       " {'1-3': 6044.0,\n",
       "  '3-5': 6044.0,\n",
       "  '<1': 3022.0,\n",
       "  '>5': '11389',\n",
       "  'category': 'synthetic aircraft leases',\n",
       "  'total': 26499.0},\n",
       " {'1-3': 14428.0,\n",
       "  '3-5': 715.0,\n",
       "  '<1': 20401.0,\n",
       "  '>5': '0',\n",
       "  'category': 'equipment operating leases',\n",
       "  'total': 35544.0},\n",
       " {'1-3': 29792.0,\n",
       "  '3-5': 23301.0,\n",
       "  '<1': 16831.0,\n",
       "  '>5': '59430',\n",
       "  'category': 'building operating leases',\n",
       "  'total': 129354.0},\n",
       " {'1-3': 4257.0,\n",
       "  '3-5': 4299.0,\n",
       "  '<1': 2122.0,\n",
       "  '>5': '43',\n",
       "  'category': 'partnerships building leases',\n",
       "  'total': 10721.0},\n",
       " {'1-3': 1278.0,\n",
       "  '3-5': 0.0,\n",
       "  '<1': 903.0,\n",
       "  '>5': '0',\n",
       "  'category': 'related party aircraft lease',\n",
       "  'total': 2181.0},\n",
       " {'1-3': 8556.0,\n",
       "  '3-5': 7030.0,\n",
       "  '<1': 9426.0,\n",
       "  '>5': '3515',\n",
       "  'category': 'obligations',\n",
       "  'total': 28527.0},\n",
       " {'1-3': 67691.0,\n",
       "  '3-5': 41642.0,\n",
       "  '<1': 62165.0,\n",
       "  '>5': '74377',\n",
       "  'category': 'obligations',\n",
       "  'total': 245875.0},\n",
       " {'1-3': 143297.0,\n",
       "  '3-5': 247466.0,\n",
       "  '<1': 135411.0,\n",
       "  '>5': '86403',\n",
       "  'category': 'obligations',\n",
       "  'total': 612577.0}]"
      ]
     },
     "execution_count": 9,
     "metadata": {},
     "output_type": "execute_result"
    }
   ],
   "source": [
    "test_f = open(path_prefix + \"0000733269-04-000010.txt\")\n",
    "wholetext = test_f.read()\n",
    "cik_re = get_cik(wholetext)\n",
    "datadate_re = get_datadate(wholetext)  \n",
    "print(\"CIK: \", cik_re, \"Date: \", datadate_re)\n",
    "wholetext = wholetext.lower()\n",
    "multiplier, lines, tbl_list = scrape_text_table(wholetext)\n",
    "rows = scrape_text_rows(lines, tbl_list)\n",
    "#scores, tables = scrape_table(wholetext)\n",
    "#table = scrape_table(wholetext)\n",
    "#rows = scrape_rows(table)\n",
    "#lines\n",
    "#mult = get_multiplier_from_tbl(table)\n",
    "rows"
   ]
  },
  {
   "cell_type": "code",
   "execution_count": 293,
   "metadata": {},
   "outputs": [
    {
     "name": "stdout",
     "output_type": "stream",
     "text": [
      "Unknown error:  could not convert string to float: 'by inflation of'\n"
     ]
    },
    {
     "data": {
      "text/plain": [
       "[{'1-3': 2848000.0,\n",
       "  '3-5': '71000',\n",
       "  '<1': 1179000.0,\n",
       "  '>5': '000',\n",
       "  'category': 'obligations',\n",
       "  'total': 4098000.0},\n",
       " {'1-3': 24293.0,\n",
       "  '3-5': '0',\n",
       "  '<1': 24293.0,\n",
       "  '>5': '0',\n",
       "  'category': 'obligations',\n",
       "  'total': 48586.0},\n",
       " {'1-3': 0.0,\n",
       "  '3-5': '0',\n",
       "  '<1': 3450.0,\n",
       "  '>5': '0',\n",
       "  'category': 'purchase obligations',\n",
       "  'total': 3450.0}]"
      ]
     },
     "execution_count": 293,
     "metadata": {},
     "output_type": "execute_result"
    }
   ],
   "source": [
    "#lines = chunks[np.argmax(scores)].split('\\n')\n",
    "lines = [x for x in lines if (hasNumbers(x))]\n",
    "keywords = HDR_KWS + ROW_KWS + ['obligations']\n",
    "lines = [x for x in lines if (hasKeywords(x, keywords))]\n",
    "lines = [x.split(' ') for x in lines]\n",
    "for i, line in enumerate(lines):\n",
    "    lines[i] = list(filter(lambda a: (a != '') and (a != '$') and (a !='<u>') and (a !='</u>'), line))    \n",
    "tbl_list = []\n",
    "tbl_list = combine_text_fields(lines)\n",
    "scrape_text_rows(lines, tbl_list)"
   ]
  },
  {
   "cell_type": "code",
   "execution_count": 135,
   "metadata": {},
   "outputs": [
    {
     "data": {
      "text/plain": [
       "1"
      ]
     },
     "execution_count": 135,
     "metadata": {},
     "output_type": "execute_result"
    }
   ],
   "source": [
    "#lt[1].text.replace('\\n', '').replace('\\xa0', '')\n",
    "len(lt)"
   ]
  },
  {
   "cell_type": "code",
   "execution_count": null,
   "metadata": {},
   "outputs": [],
   "source": []
  }
 ],
 "metadata": {
  "kernelspec": {
   "display_name": "Python 3",
   "language": "python",
   "name": "python3"
  },
  "language_info": {
   "codemirror_mode": {
    "name": "ipython",
    "version": 3
   },
   "file_extension": ".py",
   "mimetype": "text/x-python",
   "name": "python",
   "nbconvert_exporter": "python",
   "pygments_lexer": "ipython3",
   "version": "3.5.6"
  }
 },
 "nbformat": 4,
 "nbformat_minor": 2
}
