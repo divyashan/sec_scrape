{
 "cells": [
  {
   "cell_type": "code",
   "execution_count": 117,
   "metadata": {},
   "outputs": [
    {
     "name": "stdout",
     "output_type": "stream",
     "text": [
      "The autoreload extension is already loaded. To reload it, use:\n",
      "  %reload_ext autoreload\n"
     ]
    }
   ],
   "source": [
    "%load_ext autoreload\n",
    "%autoreload 2\n",
    "import pandas as pd\n",
    "import numpy as np\n",
    "import os\n",
    "import re\n",
    "\n",
    "from tqdm import tqdm\n",
    "from bs4 import BeautifulSoup\n",
    "from utils import *\n",
    "from row_utils import *\n",
    "from string_utils import *\n",
    "\n",
    "# Set directory & name of save file\n",
    "results = []\n",
    "save_file_name = \"check1_df\"\n",
    "\n",
    "path_prefix = \"./Check_20190717/\"\n",
    "all_2004 = os.listdir(path_prefix)\n",
    "all_2004 = [x for x in all_2004 if ('DS_Store' not in x)]\n",
    "all_2004 = [x for x in all_2004 if ('xlsx' not in x)]\n",
    "\n",
    "# Recording which files have been scraped \n",
    "cik_done_dict = get_cik_done(save_file_name)\n",
    "#cik_done_dict = {}"
   ]
  },
  {
   "cell_type": "code",
   "execution_count": 125,
   "metadata": {},
   "outputs": [
    {
     "name": "stderr",
     "output_type": "stream",
     "text": [
      "\n",
      "  0%|          | 0/33 [00:00<?, ?it/s]\u001b[A\n",
      "  3%|▎         | 1/33 [00:04<02:33,  4.81s/it]\u001b[A"
     ]
    },
    {
     "name": "stdout",
     "output_type": "stream",
     "text": [
      "File:  0 \tTable:  1 Row:  1\n"
     ]
    },
    {
     "name": "stderr",
     "output_type": "stream",
     "text": [
      "\n",
      "  6%|▌         | 2/33 [00:08<02:16,  4.40s/it]\u001b[A"
     ]
    },
    {
     "name": "stdout",
     "output_type": "stream",
     "text": [
      "File:  1 \tTable:  1 Row:  1\n"
     ]
    },
    {
     "name": "stderr",
     "output_type": "stream",
     "text": [
      "\n",
      "  9%|▉         | 3/33 [00:10<01:52,  3.75s/it]\u001b[A"
     ]
    },
    {
     "name": "stdout",
     "output_type": "stream",
     "text": [
      "File:  2 \tTable:  1 Row:  1\n"
     ]
    },
    {
     "name": "stderr",
     "output_type": "stream",
     "text": [
      "\n",
      " 12%|█▏        | 4/33 [00:10<01:20,  2.77s/it]\u001b[A"
     ]
    },
    {
     "name": "stdout",
     "output_type": "stream",
     "text": [
      "File:  3 \tTable:  1 Row:  1\n",
      "File:  4 \tTable:  1 Row:  0\n",
      "File:  5 \tTable:  1 Row:  1\n"
     ]
    },
    {
     "name": "stderr",
     "output_type": "stream",
     "text": [
      "\n",
      " 21%|██        | 7/33 [00:11<00:52,  2.02s/it]\u001b[A"
     ]
    },
    {
     "name": "stdout",
     "output_type": "stream",
     "text": [
      "File:  6 \tTable:  1 Row:  1\n"
     ]
    },
    {
     "name": "stderr",
     "output_type": "stream",
     "text": [
      "\n",
      " 24%|██▍       | 8/33 [00:13<00:49,  1.97s/it]\u001b[A"
     ]
    },
    {
     "name": "stdout",
     "output_type": "stream",
     "text": [
      "File:  7 \tTable:  1 Row:  1\n"
     ]
    },
    {
     "name": "stderr",
     "output_type": "stream",
     "text": [
      "\n",
      " 27%|██▋       | 9/33 [00:17<01:03,  2.63s/it]\u001b[A"
     ]
    },
    {
     "name": "stdout",
     "output_type": "stream",
     "text": [
      "File:  8 \tTable:  1 Row:  1\n",
      "File:  9 \tTable:  1 Row:  0\n"
     ]
    },
    {
     "name": "stderr",
     "output_type": "stream",
     "text": [
      "\n",
      " 33%|███▎      | 11/33 [00:18<00:42,  1.93s/it]\u001b[A"
     ]
    },
    {
     "name": "stdout",
     "output_type": "stream",
     "text": [
      "File:  10 \tTable:  1 Row:  1\n"
     ]
    },
    {
     "name": "stderr",
     "output_type": "stream",
     "text": [
      "\n",
      " 36%|███▋      | 12/33 [00:21<00:45,  2.15s/it]\u001b[A"
     ]
    },
    {
     "name": "stdout",
     "output_type": "stream",
     "text": [
      "File:  11 \tTable:  1 Row:  1\n"
     ]
    },
    {
     "name": "stderr",
     "output_type": "stream",
     "text": [
      "\n",
      " 39%|███▉      | 13/33 [00:23<00:43,  2.15s/it]\u001b[A"
     ]
    },
    {
     "name": "stdout",
     "output_type": "stream",
     "text": [
      "File:  12 \tTable:  1 Row:  1\n"
     ]
    },
    {
     "name": "stderr",
     "output_type": "stream",
     "text": [
      "\n",
      " 42%|████▏     | 14/33 [00:23<00:32,  1.73s/it]\u001b[A"
     ]
    },
    {
     "name": "stdout",
     "output_type": "stream",
     "text": [
      "File:  13 \tTable:  1 Row:  1\n"
     ]
    },
    {
     "name": "stderr",
     "output_type": "stream",
     "text": [
      "\n",
      " 45%|████▌     | 15/33 [00:27<00:38,  2.13s/it]\u001b[A"
     ]
    },
    {
     "name": "stdout",
     "output_type": "stream",
     "text": [
      "File:  14 \tTable:  1 Row:  1\n"
     ]
    },
    {
     "name": "stderr",
     "output_type": "stream",
     "text": [
      "\n",
      " 48%|████▊     | 16/33 [00:27<00:30,  1.77s/it]\u001b[A"
     ]
    },
    {
     "name": "stdout",
     "output_type": "stream",
     "text": [
      "File:  15 \tTable:  1 Row:  0\n"
     ]
    },
    {
     "name": "stderr",
     "output_type": "stream",
     "text": [
      "\n",
      " 52%|█████▏    | 17/33 [00:29<00:25,  1.60s/it]\u001b[A"
     ]
    },
    {
     "name": "stdout",
     "output_type": "stream",
     "text": [
      "File:  16 \tTable:  1 Row:  0\n"
     ]
    },
    {
     "name": "stderr",
     "output_type": "stream",
     "text": [
      "\n",
      " 55%|█████▍    | 18/33 [00:29<00:20,  1.34s/it]\u001b[A"
     ]
    },
    {
     "name": "stdout",
     "output_type": "stream",
     "text": [
      "File:  17 \tTable:  1 Row:  1\n"
     ]
    },
    {
     "name": "stderr",
     "output_type": "stream",
     "text": [
      "\n",
      " 58%|█████▊    | 19/33 [00:31<00:18,  1.34s/it]\u001b[A"
     ]
    },
    {
     "name": "stdout",
     "output_type": "stream",
     "text": [
      "File:  18 \tTable:  1 Row:  1\n",
      "File:  19 \tTable:  1 Row:  1\n"
     ]
    },
    {
     "name": "stderr",
     "output_type": "stream",
     "text": [
      "\n",
      " 64%|██████▎   | 21/33 [00:32<00:12,  1.06s/it]\u001b[A"
     ]
    },
    {
     "name": "stdout",
     "output_type": "stream",
     "text": [
      "File:  20 \tTable:  1 Row:  1\n"
     ]
    },
    {
     "name": "stderr",
     "output_type": "stream",
     "text": [
      "\n",
      " 67%|██████▋   | 22/33 [00:35<00:18,  1.66s/it]\u001b[A"
     ]
    },
    {
     "name": "stdout",
     "output_type": "stream",
     "text": [
      "File:  21 \tTable:  1 Row:  1\n"
     ]
    },
    {
     "name": "stderr",
     "output_type": "stream",
     "text": [
      "\n",
      " 70%|██████▉   | 23/33 [00:37<00:17,  1.76s/it]\u001b[A"
     ]
    },
    {
     "name": "stdout",
     "output_type": "stream",
     "text": [
      "File:  22 \tTable:  1 Row:  1\n",
      "File:  23 \tTable:  1 Row:  1\n"
     ]
    },
    {
     "name": "stderr",
     "output_type": "stream",
     "text": [
      "\n",
      " 76%|███████▌  | 25/33 [00:38<00:12,  1.50s/it]\u001b[A"
     ]
    },
    {
     "name": "stdout",
     "output_type": "stream",
     "text": [
      "File:  24 \tTable:  1 Row:  1\n"
     ]
    },
    {
     "name": "stderr",
     "output_type": "stream",
     "text": [
      "\n",
      " 79%|███████▉  | 26/33 [00:44<00:18,  2.69s/it]\u001b[A"
     ]
    },
    {
     "name": "stdout",
     "output_type": "stream",
     "text": [
      "File:  25 \tTable:  1 Row:  1\n",
      "File:  26 \tTable:  1 Row:  1\n"
     ]
    },
    {
     "name": "stderr",
     "output_type": "stream",
     "text": [
      "\n",
      " 85%|████████▍ | 28/33 [00:46<00:11,  2.22s/it]\u001b[A"
     ]
    },
    {
     "name": "stdout",
     "output_type": "stream",
     "text": [
      "File:  27 \tTable:  1 Row:  1\n"
     ]
    },
    {
     "name": "stderr",
     "output_type": "stream",
     "text": [
      "\n",
      " 88%|████████▊ | 29/33 [00:47<00:07,  1.97s/it]\u001b[A"
     ]
    },
    {
     "name": "stdout",
     "output_type": "stream",
     "text": [
      "File:  28 \tTable:  1 Row:  1\n",
      "File:  29 \tTable:  1 Row:  1\n",
      "File:  30 \tTable:  1 Row:  1\n"
     ]
    },
    {
     "name": "stderr",
     "output_type": "stream",
     "text": [
      "\n",
      " 97%|█████████▋| 32/33 [00:50<00:01,  1.62s/it]\u001b[A"
     ]
    },
    {
     "name": "stdout",
     "output_type": "stream",
     "text": [
      "File:  31 \tTable:  1 Row:  1\n"
     ]
    },
    {
     "name": "stderr",
     "output_type": "stream",
     "text": [
      "\n",
      "100%|██████████| 33/33 [00:53<00:00,  2.02s/it]\u001b[A"
     ]
    },
    {
     "name": "stdout",
     "output_type": "stream",
     "text": [
      "File:  32 \tTable:  1 Row:  1\n"
     ]
    }
   ],
   "source": [
    "# Scraping the remaining files\n",
    "results = []\n",
    "for i in tqdm(range(len(all_2004))):\n",
    "    \n",
    "    fname = all_2004[i]\n",
    "    test_f = open(path_prefix + fname)\n",
    "    wholetext = test_f.read()\n",
    "    cikbase = re.search(r\"CENTRAL INDEX KEY:\\s*?\\d{10}\\b\", wholetext, re.I).group()\n",
    "    cik_re = re.split(r'\\s', cikbase)[-1]        \n",
    "\n",
    "    datadatebase = re.search(r\"CONFORMED PERIOD OF REPORT:\\s*?\\d{8}\\b\", wholetext, re.I).group() \n",
    "    datadate_re = re.split(r'\\s', datadatebase)[-1] \n",
    "    if int(cik_re) in cik_done_dict:\n",
    "        if int(datadate_re) in cik_done_dict[int(cik_re)]:\n",
    "            print(\"Already processed this file\")\n",
    "            continue\n",
    "    \n",
    "    wholetext = wholetext.lower()\n",
    "    tbl_flag = 0 # 1 if \"contractual obligations\" table exists\n",
    "    row_flag = 0 # 1 if \"purchasing obligations\" row exists\n",
    "    multiplier = 1 # 1 by default\n",
    "    \n",
    "    table = scrape_table(wholetext)\n",
    "    rows = []\n",
    "    if (not table) or ('-----' in table.text):\n",
    "        multiplier, lines, tbl_list = scrape_text_table(wholetext)\n",
    "        if tbl_list != None:\n",
    "            tbl_flag = 1\n",
    "            rows = scrape_text_rows(lines, tbl_list)\n",
    "    else:\n",
    "        tbl_flag = 1\n",
    "        rows = scrape_rows(table)\n",
    "        multiplier = get_multiplier_from_tbl(table)\n",
    "        \n",
    "    for row in rows:\n",
    "        row_flag = 1\n",
    "        \n",
    "        continue_flag = 0\n",
    "        all_entries = [float(row['<1']), float(row['1-3']), float(row['3-5']), float(row['>5'])]\n",
    "        if np.sum(all_entries) == 0:\n",
    "            continue_flag = 1\n",
    "        if continue_flag == 1:\n",
    "            continue\n",
    "            \n",
    "        result = {'fname': fname, 'cik': cik_re, 'datadate': datadate_re, 'tbl': tbl_flag, \n",
    "                  'row': row_flag, '<1': row['<1'], '1-3':row['1-3'], \n",
    "                  '3-5':row['3-5'], '>5':row['>5'], \n",
    "                  'category': clean_category_name(row['category']), \n",
    "                  'multiplier': multiplier}\n",
    "        if 'total' in row.keys():\n",
    "                result['total'] = row['total']\n",
    "        results.append(result)\n",
    "\n",
    "    # No table or no row\n",
    "    if (tbl_flag == 0) or (row_flag == 0):\n",
    "        result = {'fname': fname, 'cik': cik_re, 'datadate': datadate_re, 'tbl': tbl_flag, 'row': row_flag, \n",
    "                  'total': '-', '<1': '-', '1-3':'-', '3-5':'-', '>5':'-', 'multiplier': multiplier, 'category': 'None'}\n",
    "\n",
    "        results.append(result)\n",
    "    pd.DataFrame(results).to_csv(save_file_name)\n",
    "    print(\"File: \", i, \"\\tTable: \", tbl_flag, \"Row: \", row_flag)\n"
   ]
  },
  {
   "cell_type": "code",
   "execution_count": 9,
   "metadata": {},
   "outputs": [
    {
     "name": "stdout",
     "output_type": "stream",
     "text": [
      "row & table found:  7\n",
      "table found:  0\n",
      "nothing found:  0\n"
     ]
    }
   ],
   "source": [
    "#results_df = pd.DataFrame(results)\n",
    "results_df = pd.read_csv(save_file_name)\n",
    "row_check = results_df[(results_df['row'] == 0) & (results_df['tbl'] == 1)] # table but no row\n",
    "none_check = results_df[(results_df['row'] == 0) & (results_df['tbl'] == 0)] # no table no row\n",
    "last_check = results_df[(results_df['row'] == 1) & (results_df['tbl'] == 1)] # table and row, other issue?\n",
    "print(\"row & table found: \", len(set(last_check['fname'])))\n",
    "print(\"table found: \", len(set(row_check['fname'])))\n",
    "print(\"nothing found: \", len(set(none_check['fname'])))"
   ]
  },
  {
   "cell_type": "code",
   "execution_count": 10,
   "metadata": {
    "collapsed": true
   },
   "outputs": [
    {
     "data": {
      "text/html": [
       "<div>\n",
       "<style scoped>\n",
       "    .dataframe tbody tr th:only-of-type {\n",
       "        vertical-align: middle;\n",
       "    }\n",
       "\n",
       "    .dataframe tbody tr th {\n",
       "        vertical-align: top;\n",
       "    }\n",
       "\n",
       "    .dataframe thead th {\n",
       "        text-align: right;\n",
       "    }\n",
       "</style>\n",
       "<table border=\"1\" class=\"dataframe\">\n",
       "  <thead>\n",
       "    <tr style=\"text-align: right;\">\n",
       "      <th></th>\n",
       "      <th>1-3</th>\n",
       "      <th>3-5</th>\n",
       "      <th>&lt;1</th>\n",
       "      <th>&gt;5</th>\n",
       "      <th>category</th>\n",
       "      <th>cik</th>\n",
       "      <th>datadate</th>\n",
       "      <th>fname</th>\n",
       "      <th>multiplier</th>\n",
       "      <th>row</th>\n",
       "      <th>tbl</th>\n",
       "      <th>total</th>\n",
       "    </tr>\n",
       "  </thead>\n",
       "  <tbody>\n",
       "    <tr>\n",
       "      <th>0</th>\n",
       "      <td>2708.3</td>\n",
       "      <td>1018.7</td>\n",
       "      <td>1719.7</td>\n",
       "      <td>28.0</td>\n",
       "      <td>purchase obligations(a)</td>\n",
       "      <td>0000009389</td>\n",
       "      <td>20031231</td>\n",
       "      <td>0000009389-04-000059.txt</td>\n",
       "      <td>1000000</td>\n",
       "      <td>1</td>\n",
       "      <td>1</td>\n",
       "      <td>5474.7</td>\n",
       "    </tr>\n",
       "    <tr>\n",
       "      <th>1</th>\n",
       "      <td>3204.9</td>\n",
       "      <td>1128.3</td>\n",
       "      <td>1832.1</td>\n",
       "      <td>1113.1</td>\n",
       "      <td>total payments on contractual obligations</td>\n",
       "      <td>0000009389</td>\n",
       "      <td>20031231</td>\n",
       "      <td>0000009389-04-000059.txt</td>\n",
       "      <td>1000000</td>\n",
       "      <td>1</td>\n",
       "      <td>1</td>\n",
       "      <td>7278.4</td>\n",
       "    </tr>\n",
       "    <tr>\n",
       "      <th>2</th>\n",
       "      <td>1</td>\n",
       "      <td>0</td>\n",
       "      <td>98</td>\n",
       "      <td>0</td>\n",
       "      <td>and construction of buildings</td>\n",
       "      <td>0000003333</td>\n",
       "      <td>20040129</td>\n",
       "      <td>0000003333-04-000014.txt</td>\n",
       "      <td>1</td>\n",
       "      <td>1</td>\n",
       "      <td>1</td>\n",
       "      <td>99.0</td>\n",
       "    </tr>\n",
       "    <tr>\n",
       "      <th>3</th>\n",
       "      <td>0</td>\n",
       "      <td>0</td>\n",
       "      <td>80</td>\n",
       "      <td>0</td>\n",
       "      <td>transportation contracts</td>\n",
       "      <td>0000003333</td>\n",
       "      <td>20040129</td>\n",
       "      <td>0000003333-04-000014.txt</td>\n",
       "      <td>1</td>\n",
       "      <td>1</td>\n",
       "      <td>1</td>\n",
       "      <td>80.0</td>\n",
       "    </tr>\n",
       "    <tr>\n",
       "      <th>4</th>\n",
       "      <td>1346</td>\n",
       "      <td>831</td>\n",
       "      <td>1480</td>\n",
       "      <td>7532</td>\n",
       "      <td>total contractual cash obligations</td>\n",
       "      <td>0000003333</td>\n",
       "      <td>20040129</td>\n",
       "      <td>0000003333-04-000014.txt</td>\n",
       "      <td>1</td>\n",
       "      <td>1</td>\n",
       "      <td>1</td>\n",
       "      <td>11189.0</td>\n",
       "    </tr>\n",
       "    <tr>\n",
       "      <th>5</th>\n",
       "      <td>77</td>\n",
       "      <td>49</td>\n",
       "      <td>63</td>\n",
       "      <td>31</td>\n",
       "      <td>capital lease obligations</td>\n",
       "      <td>0000022198</td>\n",
       "      <td>20031231</td>\n",
       "      <td>0000004904-04-000060.txt</td>\n",
       "      <td>1000000</td>\n",
       "      <td>1</td>\n",
       "      <td>1</td>\n",
       "      <td>220.0</td>\n",
       "    </tr>\n",
       "    <tr>\n",
       "      <th>6</th>\n",
       "      <td>2132</td>\n",
       "      <td>1101</td>\n",
       "      <td>1720</td>\n",
       "      <td>1785</td>\n",
       "      <td>obligations (a)</td>\n",
       "      <td>0000022198</td>\n",
       "      <td>20031231</td>\n",
       "      <td>0000004904-04-000060.txt</td>\n",
       "      <td>1000000</td>\n",
       "      <td>1</td>\n",
       "      <td>1</td>\n",
       "      <td>6738.0</td>\n",
       "    </tr>\n",
       "    <tr>\n",
       "      <th>7</th>\n",
       "      <td>492</td>\n",
       "      <td>441</td>\n",
       "      <td>291</td>\n",
       "      <td>2331</td>\n",
       "      <td>noncancellable operating leases</td>\n",
       "      <td>0000022198</td>\n",
       "      <td>20031231</td>\n",
       "      <td>0000004904-04-000060.txt</td>\n",
       "      <td>1000000</td>\n",
       "      <td>1</td>\n",
       "      <td>1</td>\n",
       "      <td>3555.0</td>\n",
       "    </tr>\n",
       "    <tr>\n",
       "      <th>8</th>\n",
       "      <td>2512</td>\n",
       "      <td>0</td>\n",
       "      <td>2512</td>\n",
       "      <td>7200</td>\n",
       "      <td>other long0term obligations (b)</td>\n",
       "      <td>0000800459</td>\n",
       "      <td>20040630</td>\n",
       "      <td>0000800459-04-000047.txt</td>\n",
       "      <td>1000</td>\n",
       "      <td>1</td>\n",
       "      <td>1</td>\n",
       "      <td>12224.0</td>\n",
       "    </tr>\n",
       "    <tr>\n",
       "      <th>9</th>\n",
       "      <td>0</td>\n",
       "      <td>0</td>\n",
       "      <td>20674</td>\n",
       "      <td>000</td>\n",
       "      <td>firm commitments for capital expenditures</td>\n",
       "      <td>0000800459</td>\n",
       "      <td>20040630</td>\n",
       "      <td>0000800459-04-000047.txt</td>\n",
       "      <td>1000</td>\n",
       "      <td>1</td>\n",
       "      <td>1</td>\n",
       "      <td>20674.0</td>\n",
       "    </tr>\n",
       "    <tr>\n",
       "      <th>10</th>\n",
       "      <td>0</td>\n",
       "      <td>0</td>\n",
       "      <td>58762</td>\n",
       "      <td>000</td>\n",
       "      <td>purchase obligations (c)</td>\n",
       "      <td>0000800459</td>\n",
       "      <td>20040630</td>\n",
       "      <td>0000800459-04-000047.txt</td>\n",
       "      <td>1000</td>\n",
       "      <td>1</td>\n",
       "      <td>1</td>\n",
       "      <td>58762.0</td>\n",
       "    </tr>\n",
       "    <tr>\n",
       "      <th>11</th>\n",
       "      <td>295336</td>\n",
       "      <td>191729</td>\n",
       "      <td>133255</td>\n",
       "      <td>40493</td>\n",
       "      <td>total contractual cash obligations</td>\n",
       "      <td>0000800459</td>\n",
       "      <td>20040630</td>\n",
       "      <td>0000800459-04-000047.txt</td>\n",
       "      <td>1000</td>\n",
       "      <td>1</td>\n",
       "      <td>1</td>\n",
       "      <td>660813.0</td>\n",
       "    </tr>\n",
       "    <tr>\n",
       "      <th>12</th>\n",
       "      <td>135000</td>\n",
       "      <td>0</td>\n",
       "      <td>476000</td>\n",
       "      <td>0</td>\n",
       "      <td>purchase obligations</td>\n",
       "      <td>0000855612</td>\n",
       "      <td>20031231</td>\n",
       "      <td>0000950134-04-003510.txt</td>\n",
       "      <td>1</td>\n",
       "      <td>1</td>\n",
       "      <td>1</td>\n",
       "      <td>NaN</td>\n",
       "    </tr>\n",
       "    <tr>\n",
       "      <th>13</th>\n",
       "      <td>2.057e+06</td>\n",
       "      <td>844000</td>\n",
       "      <td>1619000</td>\n",
       "      <td>844000</td>\n",
       "      <td>total contractual obligations</td>\n",
       "      <td>0000855612</td>\n",
       "      <td>20031231</td>\n",
       "      <td>0000950134-04-003510.txt</td>\n",
       "      <td>1</td>\n",
       "      <td>1</td>\n",
       "      <td>1</td>\n",
       "      <td>NaN</td>\n",
       "    </tr>\n",
       "    <tr>\n",
       "      <th>14</th>\n",
       "      <td>0</td>\n",
       "      <td>0</td>\n",
       "      <td>4.7</td>\n",
       "      <td>0</td>\n",
       "      <td>purchase commitments</td>\n",
       "      <td>0000093456</td>\n",
       "      <td>20031228</td>\n",
       "      <td>0000906318-04-000093.txt</td>\n",
       "      <td>1000000</td>\n",
       "      <td>1</td>\n",
       "      <td>1</td>\n",
       "      <td>4.7</td>\n",
       "    </tr>\n",
       "    <tr>\n",
       "      <th>15</th>\n",
       "      <td>77</td>\n",
       "      <td>49</td>\n",
       "      <td>63</td>\n",
       "      <td>31</td>\n",
       "      <td>capital lease obligations</td>\n",
       "      <td>0000004904</td>\n",
       "      <td>20031231</td>\n",
       "      <td>0000004904-04-000055.txt</td>\n",
       "      <td>1000000</td>\n",
       "      <td>1</td>\n",
       "      <td>1</td>\n",
       "      <td>220.0</td>\n",
       "    </tr>\n",
       "    <tr>\n",
       "      <th>16</th>\n",
       "      <td>2132</td>\n",
       "      <td>1101</td>\n",
       "      <td>1720</td>\n",
       "      <td>1785</td>\n",
       "      <td>obligations (a)</td>\n",
       "      <td>0000004904</td>\n",
       "      <td>20031231</td>\n",
       "      <td>0000004904-04-000055.txt</td>\n",
       "      <td>1000000</td>\n",
       "      <td>1</td>\n",
       "      <td>1</td>\n",
       "      <td>6738.0</td>\n",
       "    </tr>\n",
       "    <tr>\n",
       "      <th>17</th>\n",
       "      <td>492</td>\n",
       "      <td>441</td>\n",
       "      <td>291</td>\n",
       "      <td>2331</td>\n",
       "      <td>noncancellable operating leases</td>\n",
       "      <td>0000004904</td>\n",
       "      <td>20031231</td>\n",
       "      <td>0000004904-04-000055.txt</td>\n",
       "      <td>1000000</td>\n",
       "      <td>1</td>\n",
       "      <td>1</td>\n",
       "      <td>3555.0</td>\n",
       "    </tr>\n",
       "  </tbody>\n",
       "</table>\n",
       "</div>"
      ],
      "text/plain": [
       "          1-3     3-5       <1      >5  \\\n",
       "0      2708.3  1018.7   1719.7    28.0   \n",
       "1      3204.9  1128.3   1832.1  1113.1   \n",
       "2           1       0       98       0   \n",
       "3           0       0       80       0   \n",
       "4        1346     831     1480    7532   \n",
       "5          77      49       63      31   \n",
       "6        2132    1101     1720    1785   \n",
       "7         492     441      291    2331   \n",
       "8        2512       0     2512    7200   \n",
       "9           0       0    20674     000   \n",
       "10          0       0    58762     000   \n",
       "11     295336  191729   133255   40493   \n",
       "12     135000       0   476000       0   \n",
       "13  2.057e+06  844000  1619000  844000   \n",
       "14          0       0      4.7       0   \n",
       "15         77      49       63      31   \n",
       "16       2132    1101     1720    1785   \n",
       "17        492     441      291    2331   \n",
       "\n",
       "                                     category         cik  datadate  \\\n",
       "0                     purchase obligations(a)  0000009389  20031231   \n",
       "1   total payments on contractual obligations  0000009389  20031231   \n",
       "2               and construction of buildings  0000003333  20040129   \n",
       "3                    transportation contracts  0000003333  20040129   \n",
       "4          total contractual cash obligations  0000003333  20040129   \n",
       "5                   capital lease obligations  0000022198  20031231   \n",
       "6                             obligations (a)  0000022198  20031231   \n",
       "7             noncancellable operating leases  0000022198  20031231   \n",
       "8             other long0term obligations (b)  0000800459  20040630   \n",
       "9   firm commitments for capital expenditures  0000800459  20040630   \n",
       "10                   purchase obligations (c)  0000800459  20040630   \n",
       "11         total contractual cash obligations  0000800459  20040630   \n",
       "12                       purchase obligations  0000855612  20031231   \n",
       "13              total contractual obligations  0000855612  20031231   \n",
       "14                       purchase commitments  0000093456  20031228   \n",
       "15                  capital lease obligations  0000004904  20031231   \n",
       "16                            obligations (a)  0000004904  20031231   \n",
       "17            noncancellable operating leases  0000004904  20031231   \n",
       "\n",
       "                       fname  multiplier  row  tbl     total  \n",
       "0   0000009389-04-000059.txt     1000000    1    1    5474.7  \n",
       "1   0000009389-04-000059.txt     1000000    1    1    7278.4  \n",
       "2   0000003333-04-000014.txt           1    1    1      99.0  \n",
       "3   0000003333-04-000014.txt           1    1    1      80.0  \n",
       "4   0000003333-04-000014.txt           1    1    1   11189.0  \n",
       "5   0000004904-04-000060.txt     1000000    1    1     220.0  \n",
       "6   0000004904-04-000060.txt     1000000    1    1    6738.0  \n",
       "7   0000004904-04-000060.txt     1000000    1    1    3555.0  \n",
       "8   0000800459-04-000047.txt        1000    1    1   12224.0  \n",
       "9   0000800459-04-000047.txt        1000    1    1   20674.0  \n",
       "10  0000800459-04-000047.txt        1000    1    1   58762.0  \n",
       "11  0000800459-04-000047.txt        1000    1    1  660813.0  \n",
       "12  0000950134-04-003510.txt           1    1    1       NaN  \n",
       "13  0000950134-04-003510.txt           1    1    1       NaN  \n",
       "14  0000906318-04-000093.txt     1000000    1    1       4.7  \n",
       "15  0000004904-04-000055.txt     1000000    1    1     220.0  \n",
       "16  0000004904-04-000055.txt     1000000    1    1    6738.0  \n",
       "17  0000004904-04-000055.txt     1000000    1    1    3555.0  "
      ]
     },
     "execution_count": 10,
     "metadata": {},
     "output_type": "execute_result"
    }
   ],
   "source": [
    "last_check"
   ]
  },
  {
   "cell_type": "markdown",
   "metadata": {},
   "source": [
    "# Examining one file"
   ]
  },
  {
   "cell_type": "code",
   "execution_count": 116,
   "metadata": {},
   "outputs": [
    {
     "name": "stdout",
     "output_type": "stream",
     "text": [
      "CIK:  0001277151 Date:  20081231\n"
     ]
    },
    {
     "data": {
      "text/plain": [
       "([], 1)"
      ]
     },
     "execution_count": 116,
     "metadata": {},
     "output_type": "execute_result"
    }
   ],
   "source": [
    "test_f = open(path_prefix + \"0001457143-09-000008.txt\")\n",
    "wholetext = test_f.read()\n",
    "cik_re = get_cik(wholetext)\n",
    "datadate_re = get_datadate(wholetext)  \n",
    "print(\"CIK: \", cik_re, \"Date: \", datadate_re)\n",
    "wholetext = wholetext.lower()\n",
    "\n",
    "# Text table debugging\n",
    "#text_chunk, multiplier, lines, tbl_list = scrape_text_table(wholetext)\n",
    "# mult, lines, tbl_list = scrape_text_table(wholetext)\n",
    "# rows = scrape_text_rows(lines, tbl_list)\n",
    "# HTML debugging \n",
    "#scores, tables = scrape_table(wholetext)\n",
    "# table = scrape_table(wholetext)\n",
    "# rows = scrape_rows(table)\n",
    "# mult = get_multiplier_from_tbl(table)\n",
    "rows, mult"
   ]
  },
  {
   "cell_type": "code",
   "execution_count": 114,
   "metadata": {},
   "outputs": [
    {
     "data": {
      "text/plain": [
       "[['for the period\\nnovember 9, 2007\\n\\xa0 (initial capitalization)\\nthrough\\ndecember 31, 2007',\n",
       "  'year ended\\ndecember 31,\\n2008',\n",
       "  'revenues: room revenue other revenue total revenue expenses: operating expense hotel administrative expense sales and marketing utilities repair and maintenance franchise fees management fees taxes, insurance and other general and administrative depreciation expense total expenses operating loss interest income interest expense net income (loss) basic and diluted net income (loss) per common share',\n",
       "  'weighted average common shares outstanding -\\n\\xa0\\xa0\\xa0\\xa0\\xa0\\xa0\\xa0\\xa0\\xa0 basic and diluted',\n",
       "  '15,852',\n",
       "  'distributions declared and paid per common share'],\n",
       " ['-',\n",
       "  '-',\n",
       "  '- $',\n",
       "  '2,023',\n",
       "  '11,524',\n",
       "  '-',\n",
       "  '3,381',\n",
       "  '883',\n",
       "  '1,066',\n",
       "  '546',\n",
       "  '637',\n",
       "  '468',\n",
       "  '441',\n",
       "  '731',\n",
       "  '1,288',\n",
       "  '2,277',\n",
       "  '11,718',\n",
       "  '(194',\n",
       "  '2,721',\n",
       "  '(375',\n",
       "  '$ $',\n",
       "  '-',\n",
       "  '- $'],\n",
       " ['-',\n",
       "  '-',\n",
       "  '-',\n",
       "  '9,501',\n",
       "  '-',\n",
       "  '-',\n",
       "  '-',\n",
       "  '-',\n",
       "  '-',\n",
       "  '-',\n",
       "  '-',\n",
       "  '-',\n",
       "  '-',\n",
       "  '-',\n",
       "  '-',\n",
       "  '15',\n",
       "  '-',\n",
       "  '15',\n",
       "  ')',\n",
       "  '- )',\n",
       "  '2,152',\n",
       "  '0.14',\n",
       "  '-',\n",
       "  '-',\n",
       "  '0.51'],\n",
       " ['-',\n",
       "  '-',\n",
       "  '- $',\n",
       "  '-',\n",
       "  '-',\n",
       "  '-',\n",
       "  '-',\n",
       "  '-',\n",
       "  '-',\n",
       "  '-',\n",
       "  '-',\n",
       "  '-',\n",
       "  '-',\n",
       "  '-',\n",
       "  '-',\n",
       "  '-',\n",
       "  '-',\n",
       "  '(15',\n",
       "  '-',\n",
       "  '(2',\n",
       "  '$ $',\n",
       "  '-',\n",
       "  '- $'],\n",
       " ['-',\n",
       "  '-',\n",
       "  '-',\n",
       "  '-',\n",
       "  '-',\n",
       "  '-',\n",
       "  '-',\n",
       "  '-',\n",
       "  '-',\n",
       "  '-',\n",
       "  '-',\n",
       "  '-',\n",
       "  '-',\n",
       "  '-',\n",
       "  '-',\n",
       "  '-',\n",
       "  '-',\n",
       "  '- )',\n",
       "  '- )',\n",
       "  '(17',\n",
       "  '(1,684.60',\n",
       "  '-',\n",
       "  '-',\n",
       "  '-']]"
      ]
     },
     "execution_count": 114,
     "metadata": {},
     "output_type": "execute_result"
    }
   ],
   "source": [
    "table_to_list(table)"
   ]
  },
  {
   "cell_type": "code",
   "execution_count": 74,
   "metadata": {
    "collapsed": true
   },
   "outputs": [
    {
     "data": {
      "text/plain": [
       "[['contractual obligations and commercial commitments. at december',\n",
       "  '31,',\n",
       "  '2008,',\n",
       "  'our'],\n",
       " ['after', '2009', '2010', '2011', '2012', '2013', '2013', 'total'],\n",
       " ['operating leases', '606', '607', '474', '55', '14', '--', '1,756'],\n",
       " ['purchase', 'obligations', '4,852', '--', '--', '--', '--', '--', '4,852'],\n",
       " ['-------',\n",
       "  '------',\n",
       "  '------',\n",
       "  '------',\n",
       "  '------',\n",
       "  '------',\n",
       "  '------- total',\n",
       "  '$6,075',\n",
       "  '$1,223',\n",
       "  '$1,090',\n",
       "  '671',\n",
       "  '630',\n",
       "  '$3,489',\n",
       "  '$13,178'],\n",
       " ['',\n",
       "  'our purchase obligations are amounts committed under legally enforceable'],\n",
       " ['short duration of the securities in which we invest and the conservativenature of our investment portfolio, a',\n",
       "  '10%',\n",
       "  'move in interest rates over a'],\n",
       " ['one-year period would have an immaterial effect of approximately',\n",
       "  '$20,000',\n",
       "  'of'],\n",
       " ['decreased interest income on our financial position, results of operationsand cash flows. if the yen strengthens against the dollar by',\n",
       "  '10%,',\n",
       "  'the'],\n",
       " ['have an immaterial effect of approximately',\n",
       "  '$24,000',\n",
       "  'of decreased interest'],\n",
       " ['payable and receivable transactions in canadian dollars. however, paymentsfrom japanese customers provide yen currency for approximately',\n",
       "  '49%',\n",
       "  'of']]"
      ]
     },
     "execution_count": 74,
     "metadata": {},
     "output_type": "execute_result"
    }
   ],
   "source": [
    "tbl_list"
   ]
  },
  {
   "cell_type": "code",
   "execution_count": 75,
   "metadata": {},
   "outputs": [],
   "source": [
    "text_chunk\n",
    "l = text_chunk.split('\\n')\n",
    "numbers_row_indices = [hasNumbers(x) for x in l]\n",
    "start_row_idx = np.where(np.array(numbers_row_indices) == True)[0][0]\n",
    "end_row_idx = np.where(np.array(numbers_row_indices) == True)[0][-1]"
   ]
  },
  {
   "cell_type": "code",
   "execution_count": 52,
   "metadata": {},
   "outputs": [
    {
     "data": {
      "text/plain": [
       "['                   payments due by period at december 31, 2008',\n",
       " '                                 (in thousands)',\n",
       " '',\n",
       " '                                            less than     one to       three to     more than',\n",
       " 'contractual obligations           total      one year   three years   five years   five years',\n",
       " '- -----------------------           -----     ---------   -----------   ----------   ----------',\n",
       " '<s>                             <c>         <c>         <c>           <c>          <c>',\n",
       " 'certificates of deposit and     $ 143,190   $ 110,433   $    25,548   $    5,574   $    1,635',\n",
       " '  other time deposits',\n",
       " 'short-term debt',\n",
       " '  obligations                       3,911       3,911             -            -            -',\n",
       " 'minimum operating lease',\n",
       " '  obligations                       1,745         817           849           63           16',\n",
       " '                                ---------   ---------   -----------   ----------   ----------',\n",
       " '       total                    $ 148,846   $ 115,161   $    26,397   $    5,637   $    1,651',\n",
       " '                                =========   =========   ===========   ==========   ==========',\n",
       " '</table>',\n",
       " '',\n",
       " '',\n",
       " 'quantitative and qualitative disclosures about market risk',\n",
       " '',\n",
       " 'market risk arises from exposure to changes in interest  rates,  exchange rates,',\n",
       " 'commodity  prices,  and other relevant market rate or price risk. market risk in',\n",
       " 'the  form  of  interest   rate  risk  is  measured   and  managed   through  the',\n",
       " 'asset/liability  management system. the bank uses financial modeling  techniques',\n",
       " 'that  measure  the   sensitivity  of  future   earnings  due  to  changing  rate',\n",
       " 'environments.  policies  approved by the board of  directors  limit  exposure of',\n",
       " 'earnings  at  risk.   general  interest  rate  movements  are  used  to  develop',\n",
       " 'sensitivity  models and monitor  earnings at risk. these limits are based on the',\n",
       " \"bank's  exposure to a 100 bp and 200 bp immediate  and  sustained  parallel rate\",\n",
       " 'move, either upward or downward.',\n",
       " '',\n",
       " \"the bank's  primary  market risk exposure is interest rate risk and, to a lesser\",\n",
       " \"extent, liquidity risk. all of the bank's transactions are denominated in united\",\n",
       " 'states dollars, with no specific foreign exchange exposure.',\n",
       " '',\n",
       " '',\n",
       " '',\n",
       " '                                       24']"
      ]
     },
     "execution_count": 52,
     "metadata": {},
     "output_type": "execute_result"
    }
   ],
   "source": [
    "l[start_row_idx:end_row_idx+1]"
   ]
  },
  {
   "cell_type": "code",
   "execution_count": 56,
   "metadata": {},
   "outputs": [
    {
     "data": {
      "text/plain": [
       "['                   payments due by period at december 31, 2008',\n",
       " '<s>                             <c>         <c>         <c>           <c>          <c>certificates of deposit and     $ 143,190   $ 110,433   $    25,548   $    5,574   $    1,635',\n",
       " 'short-term debt  obligations                       3,911       3,911             -            -            -',\n",
       " 'minimum operating lease  obligations                       1,745         817           849           63           16',\n",
       " '                                ---------   ---------   -----------   ----------   ----------       total                    $ 148,846   $ 115,161   $    26,397   $    5,637   $    1,651',\n",
       " \"sensitivity  models and monitor  earnings at risk. these limits are based on thebank's  exposure to a 100 bp and 200 bp immediate  and  sustained  parallel rate\",\n",
       " '                                       24']"
      ]
     },
     "execution_count": 56,
     "metadata": {},
     "output_type": "execute_result"
    }
   ],
   "source": [
    "lines = l[start_row_idx:end_row_idx+1]\n",
    "line_no = 0\n",
    "condensed_lines = []\n",
    "while line_no < len(lines):\n",
    "    if hasNumbers(lines[line_no]):\n",
    "        if line_no > 1 and not hasNumbers(lines[line_no-1]):\n",
    "            condensed_lines.append(lines[line_no-1] + lines[line_no])\n",
    "        else:\n",
    "            condensed_lines.append(lines[line_no])\n",
    "    line_no += 1\n",
    "condensed_lines"
   ]
  },
  {
   "cell_type": "code",
   "execution_count": 34,
   "metadata": {},
   "outputs": [],
   "source": [
    "lines = condensed_lines\n",
    "keywords = HDR_KWS + ROW_KWS\n",
    "lines = [x for x in lines if (hasKeywords(x, keywords))]\n",
    "lines = [x.split(' ') for x in lines]\n",
    "for i, line in enumerate(lines):\n",
    "    lines[i] = list(filter(lambda a: (a != '') and (a != '$') \n",
    "                           and (a !='<u>') and (a !='</u>'), line))    "
   ]
  },
  {
   "cell_type": "code",
   "execution_count": 67,
   "metadata": {},
   "outputs": [
    {
     "data": {
      "text/plain": [
       "[['long-term\\n      debt', '200.0', '-', '-', '-', '200.0'],\n",
       " ['loans\\n      from\\n      affiliates', '1,325.0', '-', '-', '-', '1,325.0'],\n",
       " ['operating\\n      leases', '3,356.9', '203.7', '394.0', '403.1', '2,356.1'],\n",
       " ['employee\\n      benefits', '37.0', '2.5', '6.4', '7.3', '20.8'],\n",
       " ['total\\n      contractual obligations $',\n",
       "  '91,511.1',\n",
       "  '$',\n",
       "  '2,643.7',\n",
       "  '$',\n",
       "  '4,888.0',\n",
       "  '$',\n",
       "  '4,954.1',\n",
       "  '$',\n",
       "  '79,025.3']]"
      ]
     },
     "execution_count": 67,
     "metadata": {},
     "output_type": "execute_result"
    }
   ],
   "source": [
    "tbl_list = table_to_list(table)\n",
    "tbl_list"
   ]
  },
  {
   "cell_type": "code",
   "execution_count": 74,
   "metadata": {},
   "outputs": [],
   "source": [
    "n_prev_siblings = 6\n",
    "preceding_text = ' '.join([str(x) for x in itertools.islice(table.previous_siblings, n_prev_siblings)])"
   ]
  },
  {
   "cell_type": "code",
   "execution_count": 7,
   "metadata": {},
   "outputs": [],
   "source": [
    "node = table\n",
    "el_list = []\n",
    "for i in range(20):\n",
    "    el_list.append(node.parent)\n",
    "    node = node.parent"
   ]
  },
  {
   "cell_type": "code",
   "execution_count": 38,
   "metadata": {},
   "outputs": [],
   "source": [
    "prev_text = table.findAllPrevious(text=True)[:500]\n",
    "prev_text = [x.replace('\\xa0', '') for x in prev_text]\n",
    "prev_text = [x.replace('\\n', '') for x in prev_text]\n",
    "prev_text = [x.replace('$', '') for x in prev_text]\n",
    "prev_text = [x.replace(' ', '') for x in prev_text]\n",
    "prev_text = [x for x in prev_text if ('' != x)][:30]\n",
    "prev_text = ' '.join(prev_text)"
   ]
  },
  {
   "cell_type": "code",
   "execution_count": 39,
   "metadata": {},
   "outputs": [
    {
     "data": {
      "text/plain": [
       "1000000"
      ]
     },
     "execution_count": 39,
     "metadata": {},
     "output_type": "execute_result"
    }
   ],
   "source": [
    "get_multiplier_from_string(prev_text)"
   ]
  },
  {
   "cell_type": "code",
   "execution_count": null,
   "metadata": {},
   "outputs": [],
   "source": []
  }
 ],
 "metadata": {
  "kernelspec": {
   "display_name": "Python 3",
   "language": "python",
   "name": "python3"
  },
  "language_info": {
   "codemirror_mode": {
    "name": "ipython",
    "version": 3
   },
   "file_extension": ".py",
   "mimetype": "text/x-python",
   "name": "python",
   "nbconvert_exporter": "python",
   "pygments_lexer": "ipython3",
   "version": "3.5.6"
  }
 },
 "nbformat": 4,
 "nbformat_minor": 2
}
