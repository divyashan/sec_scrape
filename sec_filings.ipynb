{
 "cells": [
  {
   "cell_type": "code",
   "execution_count": 1,
   "metadata": {},
   "outputs": [],
   "source": [
    "%load_ext autoreload\n",
    "%autoreload 2\n",
    "import pandas as pd\n",
    "import numpy as np\n",
    "import os\n",
    "import re\n",
    "\n",
    "from tqdm import tqdm_notebook\n",
    "from bs4 import BeautifulSoup\n",
    "from utils import *\n",
    "from row_utils import *\n",
    "from string_utils import *\n",
    "\n",
    "# Set directory & name of save file\n",
    "results = []\n",
    "save_file_name = \"check1_df\"\n",
    "\n",
    "path_prefix = \"./Check_20190717/\"\n",
    "all_2004 = os.listdir(path_prefix)\n",
    "all_2004 = [x for x in all_2004 if ('DS_Store' not in x)]\n",
    "all_2004 = [x for x in all_2004 if ('xlsx' not in x)]\n",
    "\n",
    "# Recording which files have been scraped \n",
    "cik_done_dict = get_cik_done(save_file_name)\n",
    "#cik_done_dict = {}"
   ]
  },
  {
   "cell_type": "code",
   "execution_count": 109,
   "metadata": {
    "scrolled": true
   },
   "outputs": [
    {
     "data": {
      "application/vnd.jupyter.widget-view+json": {
       "model_id": "2429b0395691468ca2bb6696b93bc338",
       "version_major": 2,
       "version_minor": 0
      },
      "text/plain": [
       "HBox(children=(IntProgress(value=0, max=33), HTML(value='')))"
      ]
     },
     "metadata": {},
     "output_type": "display_data"
    },
    {
     "name": "stderr",
     "output_type": "stream",
     "text": [
      "/Users/divyas/Documents/real_docs/G1/sec/utils.py:33: UserWarning: No parser was explicitly specified, so I'm using the best available HTML parser for this system (\"lxml\"). This usually isn't a problem, but if you run this code on another system, or in a different virtual environment, it may use a different parser and behave differently.\n",
      "\n",
      "The code that caused this warning is on line 33 of the file /Users/divyas/Documents/real_docs/G1/sec/utils.py. To get rid of this warning, pass the additional argument 'features=\"lxml\"' to the BeautifulSoup constructor.\n",
      "\n",
      "  parsed_html = BeautifulSoup(wholetext)\n"
     ]
    },
    {
     "name": "stdout",
     "output_type": "stream",
     "text": [
      "File:  0 \tTable:  1 Row:  1\n",
      "File:  1 \tTable:  1 Row:  1\n",
      "File:  2 \tTable:  1 Row:  1\n",
      "File:  3 \tTable:  1 Row:  1\n",
      "[]\n",
      "File:  4 \tTable:  1 Row:  0\n",
      "[]\n",
      "File:  5 \tTable:  1 Row:  0\n",
      "File:  6 \tTable:  1 Row:  1\n",
      "File:  7 \tTable:  1 Row:  1\n",
      "File:  8 \tTable:  1 Row:  1\n",
      "[]\n",
      "File:  9 \tTable:  1 Row:  0\n",
      "File:  10 \tTable:  1 Row:  0\n",
      "File:  11 \tTable:  1 Row:  1\n",
      "File:  12 \tTable:  1 Row:  1\n",
      "File:  13 \tTable:  1 Row:  1\n",
      "File:  14 \tTable:  1 Row:  1\n",
      "File:  15 \tTable:  1 Row:  1\n",
      "File:  16 \tTable:  1 Row:  1\n",
      "File:  17 \tTable:  1 Row:  0\n",
      "File:  18 \tTable:  1 Row:  0\n",
      "[]\n",
      "File:  19 \tTable:  1 Row:  0\n",
      "File:  20 \tTable:  1 Row:  1\n",
      "File:  21 \tTable:  1 Row:  0\n",
      "File:  22 \tTable:  1 Row:  1\n",
      "[['purchase obligations', '9333', '0', '0', '0', '9333']]\n",
      "['purchase obligations', '9333', '0', '0', '0', '9333'] []\n",
      "File:  23 \tTable:  1 Row:  1\n",
      "File:  24 \tTable:  1 Row:  1\n",
      "File:  25 \tTable:  1 Row:  1\n",
      "[['employment contracts', '4253000', '2162000', '2091000', '0', '0']]\n",
      "['employment contracts', '4253000', '2162000', '2091000', '0', '0'] []\n",
      "File:  26 \tTable:  1 Row:  1\n",
      "File:  27 \tTable:  1 Row:  1\n",
      "File:  28 \tTable:  1 Row:  1\n",
      "[['purchase obligations', '4852', '00', '00', '00', '00', '00', '4852'], ['our purchase obligations are amounts committed under legally enforceable']]\n",
      "File:  29 \tTable:  1 Row:  1\n",
      "[]\n",
      "File:  30 \tTable:  1 Row:  0\n",
      "File:  31 \tTable:  1 Row:  1\n",
      "File:  32 \tTable:  1 Row:  0\n"
     ]
    }
   ],
   "source": [
    "# Scraping the remaining files\n",
    "results = []\n",
    "for i in tqdm_notebook(range(len(all_2004))):\n",
    "    \n",
    "    fname = all_2004[i]\n",
    "    test_f = open(path_prefix + fname)\n",
    "    wholetext = test_f.read()\n",
    "    cikbase = re.search(r\"CENTRAL INDEX KEY:\\s*?\\d{10}\\b\", wholetext, re.I).group()\n",
    "    cik_re = re.split(r'\\s', cikbase)[-1]        \n",
    "\n",
    "    datadatebase = re.search(r\"CONFORMED PERIOD OF REPORT:\\s*?\\d{8}\\b\", wholetext, re.I).group() \n",
    "    datadate_re = re.split(r'\\s', datadatebase)[-1] \n",
    "    if int(cik_re) in cik_done_dict:\n",
    "        if int(datadate_re) in cik_done_dict[int(cik_re)]:\n",
    "            print(\"Already processed this file\")\n",
    "            continue\n",
    "    \n",
    "    wholetext = wholetext.lower()\n",
    "    tbl_flag = 0 # 1 if \"contractual obligations\" table exists\n",
    "    row_flag = 0 # 1 if \"purchasing obligations\" row exists\n",
    "    multiplier = 1 # 1 by default\n",
    "    \n",
    "    table = scrape_table(wholetext)\n",
    "    rows = []\n",
    "    if (not table) or ('-----' in table.text):\n",
    "        multiplier, lines, tbl_list = scrape_text_table(wholetext)\n",
    "        if tbl_list != None:\n",
    "            tbl_flag = 1\n",
    "            rows = scrape_text_rows(lines, tbl_list)\n",
    "    else:\n",
    "        tbl_flag = 1\n",
    "        rows = scrape_rows(table)\n",
    "        multiplier = get_multiplier_from_tbl(table)\n",
    "        \n",
    "    for row in rows:\n",
    "        row_flag = 1\n",
    "        \n",
    "        continue_flag = 0\n",
    "        all_entries = [float(row['<1']), float(row['1-3']), float(row['3-5']), float(row['>5'])]\n",
    "        if np.sum(all_entries) == 0:\n",
    "            continue_flag = 1\n",
    "        if continue_flag == 1:\n",
    "            continue\n",
    "            \n",
    "        result = {'fname': fname, 'cik': cik_re, 'datadate': datadate_re, 'tbl': tbl_flag, \n",
    "                  'row': row_flag, '<1': row['<1'], '1-3':row['1-3'], \n",
    "                  '3-5':row['3-5'], '>5':row['>5'], \n",
    "                  'category': clean_category_name(row['category']), \n",
    "                  'multiplier': multiplier}\n",
    "        if 'total' in row.keys():\n",
    "                result['total'] = row['total']\n",
    "        results.append(result)\n",
    "\n",
    "    # No table or no row\n",
    "    if (tbl_flag == 0) or (row_flag == 0):\n",
    "        result = {'fname': fname, 'cik': cik_re, 'datadate': datadate_re, 'tbl': tbl_flag, 'row': row_flag, \n",
    "                  'total': '-', '<1': '-', '1-3':'-', '3-5':'-', '>5':'-', 'multiplier': multiplier, 'category': 'None'}\n",
    "\n",
    "        results.append(result)\n",
    "    pd.DataFrame(results).to_csv(save_file_name)\n",
    "    print(\"File: \", i, \"\\tTable: \", tbl_flag, \"Row: \", row_flag)\n"
   ]
  },
  {
   "cell_type": "code",
   "execution_count": 110,
   "metadata": {},
   "outputs": [
    {
     "name": "stdout",
     "output_type": "stream",
     "text": [
      "row & table found:  23\n",
      "table found:  10\n",
      "nothing found:  0\n"
     ]
    }
   ],
   "source": [
    "#results_df = pd.DataFrame(results)\n",
    "results_df = pd.read_csv(save_file_name)\n",
    "row_check = results_df[(results_df['row'] == 0) & (results_df['tbl'] == 1)] # table but no row\n",
    "none_check = results_df[(results_df['row'] == 0) & (results_df['tbl'] == 0)] # no table no row\n",
    "last_check = results_df[(results_df['row'] == 1) & (results_df['tbl'] == 1)] # table and row, other issue?\n",
    "print(\"row & table found: \", len(set(last_check['fname'])))\n",
    "print(\"table found: \", len(set(row_check['fname'])))\n",
    "print(\"nothing found: \", len(set(none_check['fname'])))"
   ]
  },
  {
   "cell_type": "code",
   "execution_count": 111,
   "metadata": {},
   "outputs": [
    {
     "data": {
      "text/html": [
       "<div>\n",
       "<style scoped>\n",
       "    .dataframe tbody tr th:only-of-type {\n",
       "        vertical-align: middle;\n",
       "    }\n",
       "\n",
       "    .dataframe tbody tr th {\n",
       "        vertical-align: top;\n",
       "    }\n",
       "\n",
       "    .dataframe thead th {\n",
       "        text-align: right;\n",
       "    }\n",
       "</style>\n",
       "<table border=\"1\" class=\"dataframe\">\n",
       "  <thead>\n",
       "    <tr style=\"text-align: right;\">\n",
       "      <th></th>\n",
       "      <th>Unnamed: 0</th>\n",
       "      <th>1-3</th>\n",
       "      <th>3-5</th>\n",
       "      <th>&lt;1</th>\n",
       "      <th>&gt;5</th>\n",
       "      <th>category</th>\n",
       "      <th>cik</th>\n",
       "      <th>datadate</th>\n",
       "      <th>fname</th>\n",
       "      <th>multiplier</th>\n",
       "      <th>row</th>\n",
       "      <th>tbl</th>\n",
       "      <th>total</th>\n",
       "    </tr>\n",
       "  </thead>\n",
       "  <tbody>\n",
       "    <tr>\n",
       "      <th>8</th>\n",
       "      <td>8</td>\n",
       "      <td>-</td>\n",
       "      <td>-</td>\n",
       "      <td>-</td>\n",
       "      <td>-</td>\n",
       "      <td>None</td>\n",
       "      <td>818677</td>\n",
       "      <td>20090331</td>\n",
       "      <td>0000939057-09-000175.txt</td>\n",
       "      <td>1000</td>\n",
       "      <td>0</td>\n",
       "      <td>1</td>\n",
       "      <td>-</td>\n",
       "    </tr>\n",
       "    <tr>\n",
       "      <th>9</th>\n",
       "      <td>9</td>\n",
       "      <td>-</td>\n",
       "      <td>-</td>\n",
       "      <td>-</td>\n",
       "      <td>-</td>\n",
       "      <td>None</td>\n",
       "      <td>1046050</td>\n",
       "      <td>20090930</td>\n",
       "      <td>0000939057-09-000370.txt</td>\n",
       "      <td>1000</td>\n",
       "      <td>0</td>\n",
       "      <td>1</td>\n",
       "      <td>-</td>\n",
       "    </tr>\n",
       "    <tr>\n",
       "      <th>18</th>\n",
       "      <td>18</td>\n",
       "      <td>-</td>\n",
       "      <td>-</td>\n",
       "      <td>-</td>\n",
       "      <td>-</td>\n",
       "      <td>None</td>\n",
       "      <td>313337</td>\n",
       "      <td>20081231</td>\n",
       "      <td>0000313337-09-000011.txt</td>\n",
       "      <td>1000</td>\n",
       "      <td>0</td>\n",
       "      <td>1</td>\n",
       "      <td>-</td>\n",
       "    </tr>\n",
       "    <tr>\n",
       "      <th>19</th>\n",
       "      <td>19</td>\n",
       "      <td>-</td>\n",
       "      <td>-</td>\n",
       "      <td>-</td>\n",
       "      <td>-</td>\n",
       "      <td>None</td>\n",
       "      <td>1443818</td>\n",
       "      <td>20081231</td>\n",
       "      <td>0001445866-09-000016.txt</td>\n",
       "      <td>1</td>\n",
       "      <td>0</td>\n",
       "      <td>1</td>\n",
       "      <td>-</td>\n",
       "    </tr>\n",
       "    <tr>\n",
       "      <th>26</th>\n",
       "      <td>26</td>\n",
       "      <td>-</td>\n",
       "      <td>-</td>\n",
       "      <td>-</td>\n",
       "      <td>-</td>\n",
       "      <td>None</td>\n",
       "      <td>1116734</td>\n",
       "      <td>20090331</td>\n",
       "      <td>0001144204-09-037210.txt</td>\n",
       "      <td>1</td>\n",
       "      <td>0</td>\n",
       "      <td>1</td>\n",
       "      <td>-</td>\n",
       "    </tr>\n",
       "    <tr>\n",
       "      <th>27</th>\n",
       "      <td>27</td>\n",
       "      <td>-</td>\n",
       "      <td>-</td>\n",
       "      <td>-</td>\n",
       "      <td>-</td>\n",
       "      <td>None</td>\n",
       "      <td>896400</td>\n",
       "      <td>20090930</td>\n",
       "      <td>0001437749-09-002044.txt</td>\n",
       "      <td>1000</td>\n",
       "      <td>0</td>\n",
       "      <td>1</td>\n",
       "      <td>-</td>\n",
       "    </tr>\n",
       "    <tr>\n",
       "      <th>28</th>\n",
       "      <td>28</td>\n",
       "      <td>-</td>\n",
       "      <td>-</td>\n",
       "      <td>-</td>\n",
       "      <td>-</td>\n",
       "      <td>None</td>\n",
       "      <td>796655</td>\n",
       "      <td>20081231</td>\n",
       "      <td>0001157523-09-003268.txt</td>\n",
       "      <td>1</td>\n",
       "      <td>0</td>\n",
       "      <td>1</td>\n",
       "      <td>-</td>\n",
       "    </tr>\n",
       "    <tr>\n",
       "      <th>31</th>\n",
       "      <td>31</td>\n",
       "      <td>-</td>\n",
       "      <td>-</td>\n",
       "      <td>-</td>\n",
       "      <td>-</td>\n",
       "      <td>None</td>\n",
       "      <td>1010470</td>\n",
       "      <td>20090630</td>\n",
       "      <td>0000939057-09-000247.txt</td>\n",
       "      <td>1</td>\n",
       "      <td>0</td>\n",
       "      <td>1</td>\n",
       "      <td>-</td>\n",
       "    </tr>\n",
       "    <tr>\n",
       "      <th>44</th>\n",
       "      <td>44</td>\n",
       "      <td>-</td>\n",
       "      <td>-</td>\n",
       "      <td>-</td>\n",
       "      <td>-</td>\n",
       "      <td>None</td>\n",
       "      <td>355019</td>\n",
       "      <td>20090630</td>\n",
       "      <td>0000355019-09-000009.txt</td>\n",
       "      <td>1</td>\n",
       "      <td>0</td>\n",
       "      <td>1</td>\n",
       "      <td>-</td>\n",
       "    </tr>\n",
       "    <tr>\n",
       "      <th>46</th>\n",
       "      <td>46</td>\n",
       "      <td>-</td>\n",
       "      <td>-</td>\n",
       "      <td>-</td>\n",
       "      <td>-</td>\n",
       "      <td>None</td>\n",
       "      <td>727920</td>\n",
       "      <td>20081231</td>\n",
       "      <td>0000089024-09-000140.txt</td>\n",
       "      <td>1000000</td>\n",
       "      <td>0</td>\n",
       "      <td>1</td>\n",
       "      <td>-</td>\n",
       "    </tr>\n",
       "  </tbody>\n",
       "</table>\n",
       "</div>"
      ],
      "text/plain": [
       "    Unnamed: 0 1-3 3-5 <1 >5 category      cik  datadate  \\\n",
       "8            8   -   -  -  -     None   818677  20090331   \n",
       "9            9   -   -  -  -     None  1046050  20090930   \n",
       "18          18   -   -  -  -     None   313337  20081231   \n",
       "19          19   -   -  -  -     None  1443818  20081231   \n",
       "26          26   -   -  -  -     None  1116734  20090331   \n",
       "27          27   -   -  -  -     None   896400  20090930   \n",
       "28          28   -   -  -  -     None   796655  20081231   \n",
       "31          31   -   -  -  -     None  1010470  20090630   \n",
       "44          44   -   -  -  -     None   355019  20090630   \n",
       "46          46   -   -  -  -     None   727920  20081231   \n",
       "\n",
       "                       fname  multiplier  row  tbl total  \n",
       "8   0000939057-09-000175.txt        1000    0    1     -  \n",
       "9   0000939057-09-000370.txt        1000    0    1     -  \n",
       "18  0000313337-09-000011.txt        1000    0    1     -  \n",
       "19  0001445866-09-000016.txt           1    0    1     -  \n",
       "26  0001144204-09-037210.txt           1    0    1     -  \n",
       "27  0001437749-09-002044.txt        1000    0    1     -  \n",
       "28  0001157523-09-003268.txt           1    0    1     -  \n",
       "31  0000939057-09-000247.txt           1    0    1     -  \n",
       "44  0000355019-09-000009.txt           1    0    1     -  \n",
       "46  0000089024-09-000140.txt     1000000    0    1     -  "
      ]
     },
     "execution_count": 111,
     "metadata": {},
     "output_type": "execute_result"
    }
   ],
   "source": [
    "row_check"
   ]
  },
  {
   "cell_type": "markdown",
   "metadata": {},
   "source": [
    "# Examining one file"
   ]
  },
  {
   "cell_type": "code",
   "execution_count": 133,
   "metadata": {},
   "outputs": [
    {
     "name": "stdout",
     "output_type": "stream",
     "text": [
      "CIK:  0001010470 Date:  20090630\n"
     ]
    },
    {
     "data": {
      "text/plain": [
       "([], 1)"
      ]
     },
     "execution_count": 133,
     "metadata": {},
     "output_type": "execute_result"
    }
   ],
   "source": [
    "test_f = open(path_prefix + \"0000939057-09-000247.txt\")\n",
    "wholetext = test_f.read()\n",
    "cik_re = get_cik(wholetext)\n",
    "datadate_re = get_datadate(wholetext)  \n",
    "print(\"CIK: \", cik_re, \"Date: \", datadate_re)\n",
    "wholetext = wholetext.lower()\n",
    "\n",
    "# Text table debugging\n",
    "#text_chunk, multiplier, lines, tbl_list = scrape_text_table(wholetext)\n",
    "#mult, lines, tbl_list = scrape_text_table(wholetext)\n",
    "#rows = scrape_text_rows(lines, tbl_list)\n",
    "# HTML debugging \n",
    "scores, tables = scrape_table(wholetext)\n",
    "#table = scrape_table(wholetext)\n",
    "#rows = scrape_rows(table)\n",
    "#mult = get_multiplier_from_tbl(table)\n",
    "rows, mult"
   ]
  },
  {
   "cell_type": "code",
   "execution_count": 147,
   "metadata": {},
   "outputs": [
    {
     "ename": "IndexError",
     "evalue": "index 10 is out of bounds for axis 0 with size 10",
     "output_type": "error",
     "traceback": [
      "\u001b[0;31m---------------------------------------------------------------------------\u001b[0m",
      "\u001b[0;31mIndexError\u001b[0m                                Traceback (most recent call last)",
      "\u001b[0;32m<ipython-input-147-a42fb1d2f031>\u001b[0m in \u001b[0;36m<module>\u001b[0;34m\u001b[0m\n\u001b[1;32m      1\u001b[0m \u001b[0;31m#print(scores)\u001b[0m\u001b[0;34m\u001b[0m\u001b[0;34m\u001b[0m\u001b[0m\n\u001b[0;32m----> 2\u001b[0;31m \u001b[0mtable_to_list\u001b[0m\u001b[0;34m(\u001b[0m\u001b[0mtables\u001b[0m\u001b[0;34m[\u001b[0m\u001b[0mnp\u001b[0m\u001b[0;34m.\u001b[0m\u001b[0mwhere\u001b[0m\u001b[0;34m(\u001b[0m\u001b[0mscores\u001b[0m \u001b[0;34m==\u001b[0m \u001b[0mnp\u001b[0m\u001b[0;34m.\u001b[0m\u001b[0mmax\u001b[0m\u001b[0;34m(\u001b[0m\u001b[0mscores\u001b[0m\u001b[0;34m)\u001b[0m\u001b[0;34m-\u001b[0m\u001b[0;36m2\u001b[0m\u001b[0;34m)\u001b[0m\u001b[0;34m[\u001b[0m\u001b[0;36m0\u001b[0m\u001b[0;34m]\u001b[0m\u001b[0;34m[\u001b[0m\u001b[0;36m10\u001b[0m\u001b[0;34m]\u001b[0m\u001b[0;34m]\u001b[0m\u001b[0;34m)\u001b[0m\u001b[0;34m\u001b[0m\u001b[0m\n\u001b[0m",
      "\u001b[0;31mIndexError\u001b[0m: index 10 is out of bounds for axis 0 with size 10"
     ]
    }
   ],
   "source": [
    "#print(scores)\n",
    "table_to_list(tables[np.where(scores == np.max(scores)-2)[0][10]])"
   ]
  },
  {
   "cell_type": "code",
   "execution_count": 13,
   "metadata": {},
   "outputs": [
    {
     "data": {
      "text/plain": [
       "['obligations', '1', 'year', 'years', 'years', '5', 'years', 'total']"
      ]
     },
     "execution_count": 13,
     "metadata": {},
     "output_type": "execute_result"
    }
   ],
   "source": [
    "get_table_headers_from_list(lines)"
   ]
  },
  {
   "cell_type": "code",
   "execution_count": 74,
   "metadata": {
    "collapsed": true
   },
   "outputs": [
    {
     "data": {
      "text/plain": [
       "[['contractual obligations and commercial commitments. at december',\n",
       "  '31,',\n",
       "  '2008,',\n",
       "  'our'],\n",
       " ['after', '2009', '2010', '2011', '2012', '2013', '2013', 'total'],\n",
       " ['operating leases', '606', '607', '474', '55', '14', '--', '1,756'],\n",
       " ['purchase', 'obligations', '4,852', '--', '--', '--', '--', '--', '4,852'],\n",
       " ['-------',\n",
       "  '------',\n",
       "  '------',\n",
       "  '------',\n",
       "  '------',\n",
       "  '------',\n",
       "  '------- total',\n",
       "  '$6,075',\n",
       "  '$1,223',\n",
       "  '$1,090',\n",
       "  '671',\n",
       "  '630',\n",
       "  '$3,489',\n",
       "  '$13,178'],\n",
       " ['',\n",
       "  'our purchase obligations are amounts committed under legally enforceable'],\n",
       " ['short duration of the securities in which we invest and the conservativenature of our investment portfolio, a',\n",
       "  '10%',\n",
       "  'move in interest rates over a'],\n",
       " ['one-year period would have an immaterial effect of approximately',\n",
       "  '$20,000',\n",
       "  'of'],\n",
       " ['decreased interest income on our financial position, results of operationsand cash flows. if the yen strengthens against the dollar by',\n",
       "  '10%,',\n",
       "  'the'],\n",
       " ['have an immaterial effect of approximately',\n",
       "  '$24,000',\n",
       "  'of decreased interest'],\n",
       " ['payable and receivable transactions in canadian dollars. however, paymentsfrom japanese customers provide yen currency for approximately',\n",
       "  '49%',\n",
       "  'of']]"
      ]
     },
     "execution_count": 74,
     "metadata": {},
     "output_type": "execute_result"
    }
   ],
   "source": [
    "tbl_list"
   ]
  },
  {
   "cell_type": "code",
   "execution_count": 75,
   "metadata": {},
   "outputs": [],
   "source": [
    "text_chunk\n",
    "l = text_chunk.split('\\n')\n",
    "numbers_row_indices = [hasNumbers(x) for x in l]\n",
    "start_row_idx = np.where(np.array(numbers_row_indices) == True)[0][0]\n",
    "end_row_idx = np.where(np.array(numbers_row_indices) == True)[0][-1]"
   ]
  },
  {
   "cell_type": "code",
   "execution_count": 52,
   "metadata": {},
   "outputs": [
    {
     "data": {
      "text/plain": [
       "['                   payments due by period at december 31, 2008',\n",
       " '                                 (in thousands)',\n",
       " '',\n",
       " '                                            less than     one to       three to     more than',\n",
       " 'contractual obligations           total      one year   three years   five years   five years',\n",
       " '- -----------------------           -----     ---------   -----------   ----------   ----------',\n",
       " '<s>                             <c>         <c>         <c>           <c>          <c>',\n",
       " 'certificates of deposit and     $ 143,190   $ 110,433   $    25,548   $    5,574   $    1,635',\n",
       " '  other time deposits',\n",
       " 'short-term debt',\n",
       " '  obligations                       3,911       3,911             -            -            -',\n",
       " 'minimum operating lease',\n",
       " '  obligations                       1,745         817           849           63           16',\n",
       " '                                ---------   ---------   -----------   ----------   ----------',\n",
       " '       total                    $ 148,846   $ 115,161   $    26,397   $    5,637   $    1,651',\n",
       " '                                =========   =========   ===========   ==========   ==========',\n",
       " '</table>',\n",
       " '',\n",
       " '',\n",
       " 'quantitative and qualitative disclosures about market risk',\n",
       " '',\n",
       " 'market risk arises from exposure to changes in interest  rates,  exchange rates,',\n",
       " 'commodity  prices,  and other relevant market rate or price risk. market risk in',\n",
       " 'the  form  of  interest   rate  risk  is  measured   and  managed   through  the',\n",
       " 'asset/liability  management system. the bank uses financial modeling  techniques',\n",
       " 'that  measure  the   sensitivity  of  future   earnings  due  to  changing  rate',\n",
       " 'environments.  policies  approved by the board of  directors  limit  exposure of',\n",
       " 'earnings  at  risk.   general  interest  rate  movements  are  used  to  develop',\n",
       " 'sensitivity  models and monitor  earnings at risk. these limits are based on the',\n",
       " \"bank's  exposure to a 100 bp and 200 bp immediate  and  sustained  parallel rate\",\n",
       " 'move, either upward or downward.',\n",
       " '',\n",
       " \"the bank's  primary  market risk exposure is interest rate risk and, to a lesser\",\n",
       " \"extent, liquidity risk. all of the bank's transactions are denominated in united\",\n",
       " 'states dollars, with no specific foreign exchange exposure.',\n",
       " '',\n",
       " '',\n",
       " '',\n",
       " '                                       24']"
      ]
     },
     "execution_count": 52,
     "metadata": {},
     "output_type": "execute_result"
    }
   ],
   "source": [
    "l[start_row_idx:end_row_idx+1]"
   ]
  },
  {
   "cell_type": "code",
   "execution_count": 56,
   "metadata": {},
   "outputs": [
    {
     "data": {
      "text/plain": [
       "['                   payments due by period at december 31, 2008',\n",
       " '<s>                             <c>         <c>         <c>           <c>          <c>certificates of deposit and     $ 143,190   $ 110,433   $    25,548   $    5,574   $    1,635',\n",
       " 'short-term debt  obligations                       3,911       3,911             -            -            -',\n",
       " 'minimum operating lease  obligations                       1,745         817           849           63           16',\n",
       " '                                ---------   ---------   -----------   ----------   ----------       total                    $ 148,846   $ 115,161   $    26,397   $    5,637   $    1,651',\n",
       " \"sensitivity  models and monitor  earnings at risk. these limits are based on thebank's  exposure to a 100 bp and 200 bp immediate  and  sustained  parallel rate\",\n",
       " '                                       24']"
      ]
     },
     "execution_count": 56,
     "metadata": {},
     "output_type": "execute_result"
    }
   ],
   "source": [
    "lines = l[start_row_idx:end_row_idx+1]\n",
    "line_no = 0\n",
    "condensed_lines = []\n",
    "while line_no < len(lines):\n",
    "    if hasNumbers(lines[line_no]):\n",
    "        if line_no > 1 and not hasNumbers(lines[line_no-1]):\n",
    "            condensed_lines.append(lines[line_no-1] + lines[line_no])\n",
    "        else:\n",
    "            condensed_lines.append(lines[line_no])\n",
    "    line_no += 1\n",
    "condensed_lines"
   ]
  },
  {
   "cell_type": "code",
   "execution_count": 34,
   "metadata": {},
   "outputs": [],
   "source": [
    "lines = condensed_lines\n",
    "keywords = HDR_KWS + ROW_KWS\n",
    "lines = [x for x in lines if (hasKeywords(x, keywords))]\n",
    "lines = [x.split(' ') for x in lines]\n",
    "for i, line in enumerate(lines):\n",
    "    lines[i] = list(filter(lambda a: (a != '') and (a != '$') \n",
    "                           and (a !='<u>') and (a !='</u>'), line))    "
   ]
  },
  {
   "cell_type": "code",
   "execution_count": 67,
   "metadata": {},
   "outputs": [
    {
     "data": {
      "text/plain": [
       "[['long-term\\n      debt', '200.0', '-', '-', '-', '200.0'],\n",
       " ['loans\\n      from\\n      affiliates', '1,325.0', '-', '-', '-', '1,325.0'],\n",
       " ['operating\\n      leases', '3,356.9', '203.7', '394.0', '403.1', '2,356.1'],\n",
       " ['employee\\n      benefits', '37.0', '2.5', '6.4', '7.3', '20.8'],\n",
       " ['total\\n      contractual obligations $',\n",
       "  '91,511.1',\n",
       "  '$',\n",
       "  '2,643.7',\n",
       "  '$',\n",
       "  '4,888.0',\n",
       "  '$',\n",
       "  '4,954.1',\n",
       "  '$',\n",
       "  '79,025.3']]"
      ]
     },
     "execution_count": 67,
     "metadata": {},
     "output_type": "execute_result"
    }
   ],
   "source": [
    "tbl_list = table_to_list(table)\n",
    "tbl_list"
   ]
  },
  {
   "cell_type": "code",
   "execution_count": 74,
   "metadata": {},
   "outputs": [],
   "source": [
    "n_prev_siblings = 6\n",
    "preceding_text = ' '.join([str(x) for x in itertools.islice(table.previous_siblings, n_prev_siblings)])"
   ]
  },
  {
   "cell_type": "code",
   "execution_count": 7,
   "metadata": {},
   "outputs": [],
   "source": [
    "node = table\n",
    "el_list = []\n",
    "for i in range(20):\n",
    "    el_list.append(node.parent)\n",
    "    node = node.parent"
   ]
  },
  {
   "cell_type": "code",
   "execution_count": 38,
   "metadata": {},
   "outputs": [],
   "source": [
    "prev_text = table.findAllPrevious(text=True)[:500]\n",
    "prev_text = [x.replace('\\xa0', '') for x in prev_text]\n",
    "prev_text = [x.replace('\\n', '') for x in prev_text]\n",
    "prev_text = [x.replace('$', '') for x in prev_text]\n",
    "prev_text = [x.replace(' ', '') for x in prev_text]\n",
    "prev_text = [x for x in prev_text if ('' != x)][:30]\n",
    "prev_text = ' '.join(prev_text)"
   ]
  },
  {
   "cell_type": "code",
   "execution_count": 39,
   "metadata": {},
   "outputs": [
    {
     "data": {
      "text/plain": [
       "1000000"
      ]
     },
     "execution_count": 39,
     "metadata": {},
     "output_type": "execute_result"
    }
   ],
   "source": [
    "get_multiplier_from_string(prev_text)"
   ]
  },
  {
   "cell_type": "code",
   "execution_count": null,
   "metadata": {},
   "outputs": [],
   "source": []
  }
 ],
 "metadata": {
  "kernelspec": {
   "display_name": "Python 3",
   "language": "python",
   "name": "python3"
  },
  "language_info": {
   "codemirror_mode": {
    "name": "ipython",
    "version": 3
   },
   "file_extension": ".py",
   "mimetype": "text/x-python",
   "name": "python",
   "nbconvert_exporter": "python",
   "pygments_lexer": "ipython3",
   "version": "3.5.6"
  }
 },
 "nbformat": 4,
 "nbformat_minor": 2
}
